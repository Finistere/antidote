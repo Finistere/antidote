{
 "cells": [
  {
   "cell_type": "markdown",
   "id": "documentary-olympus",
   "metadata": {
    "pycharm": {
     "name": "#%% md\n"
    }
   },
   "source": [
    "# Comparison with popular libraries"
   ]
  },
  {
   "cell_type": "code",
   "execution_count": 1,
   "id": "finite-boost",
   "metadata": {
    "pycharm": {
     "name": "#%%\n"
    }
   },
   "outputs": [
    {
     "name": "stdout",
     "output_type": "stream",
     "text": [
      "\n",
      "== Python ==\n",
      "3.9.1 (default, Dec  7 2020, 22:33:43) \n",
      "[GCC 9.3.0]\n",
      "\n",
      "== Antidote =\n",
      "0.12.1 (cython)\n",
      "\n"
     ]
    }
   ],
   "source": [
    "import sys\n",
    "import subprocess\n",
    "from antidote import __version__, is_compiled\n",
    "print(f\"\"\"\n",
    "== Python ==\n",
    "{sys.version}\n",
    "\n",
    "== Antidote =\n",
    "{__version__} {'(cython)' if is_compiled() else ''}\n",
    "\"\"\")"
   ]
  },
  {
   "cell_type": "code",
   "execution_count": 2,
   "id": "revolutionary-acoustic",
   "metadata": {
    "pycharm": {
     "name": "#%%\n"
    }
   },
   "outputs": [
    {
     "name": "stdout",
     "output_type": "stream",
     "text": [
      "model name\t: Intel(R) Core(TM) i7-10510U CPU @ 1.80GHz\n"
     ]
    }
   ],
   "source": [
    "cat /proc/cpuinfo | grep 'model name' | head -n 1"
   ]
  },
  {
   "cell_type": "markdown",
   "id": "enabling-oakland",
   "metadata": {
    "pycharm": {
     "name": "#%% md\n"
    }
   },
   "source": [
    "## Injection Benchmarks\n",
    "\n",
    "Testing how fast @inject is for several libraries."
   ]
  },
  {
   "cell_type": "code",
   "execution_count": 3,
   "id": "lovely-friendly",
   "metadata": {
    "pycharm": {
     "name": "#%%\n"
    }
   },
   "outputs": [],
   "source": [
    "import inspect\n",
    "import re\n",
    "\n",
    "timings = dict()\n",
    "\n",
    "def bench(library, injections):\n",
    "    assert len(injections) == 5\n",
    "    print(library)\n",
    "    results = []\n",
    "    for f in injections:\n",
    "        # friendly formatting of the function\n",
    "        args = str(inspect.signature(f)).replace('typing.', '')\n",
    "        args = re.sub(r'__main__(?:.*?)\\.(\\w+(?:,\\s|\\)|\\s=))',  r'\\1', args)\n",
    "        args = re.sub(r'<(.*?)\\.(\\w+) object at \\w+>',  r'<\\1 object ...>', args)\n",
    "        args = re.sub(r', (s\\d?: )', r',\\n' + (1 + len(f.__name__)) * ' ' + r'\\1', args)\n",
    "        print(f\"\\n\\n{f.__name__}{args}\\n\")\n",
    "        # timeit\n",
    "        res = %timeit -o f()\n",
    "        results.append(res)\n",
    "    timings[library] = results\n",
    "    \n",
    "class ExternalSingleton:\n",
    "    pass\n",
    "\n",
    "class ExternalStatus:\n",
    "    pass"
   ]
  },
  {
   "cell_type": "code",
   "execution_count": 4,
   "id": "anticipated-reform",
   "metadata": {
    "pycharm": {
     "name": "#%%\n"
    }
   },
   "outputs": [
    {
     "name": "stdout",
     "output_type": "stream",
     "text": [
      "Antidote: 0.12.1 (compiled)\n",
      "\n",
      "\n",
      "antidote_f1(s: Annotated[AntidoteSingleton, <antidote.core.annotations object ...>])\n",
      "\n",
      "198 ns ± 4.86 ns per loop (mean ± std. dev. of 7 runs, 1000000 loops each)\n",
      "\n",
      "\n",
      "antidote_f2(s: Annotated[ExternalSingleton, From(source=<antidote._factory object ...>)])\n",
      "\n",
      "187 ns ± 3.2 ns per loop (mean ± std. dev. of 7 runs, 10000000 loops each)\n",
      "\n",
      "\n",
      "antidote_f3(s: Annotated[AntidoteStatus, <antidote.core.annotations object ...>])\n",
      "\n",
      "335 ns ± 3.28 ns per loop (mean ± std. dev. of 7 runs, 1000000 loops each)\n",
      "\n",
      "\n",
      "antidote_f4(s: Annotated[ExternalStatus, From(source=<antidote._factory object ...>)])\n",
      "\n",
      "384 ns ± 12.9 ns per loop (mean ± std. dev. of 7 runs, 1000000 loops each)\n",
      "\n",
      "\n",
      "antidote_f5(s1: Annotated[AntidoteSingleton, <antidote.core.annotations object ...>],\n",
      "            s2: Annotated[ExternalSingleton, From(source=<antidote._factory object ...>)],\n",
      "            s3: Annotated[AntidoteStatus, <antidote.core.annotations object ...>],\n",
      "            s4: Annotated[ExternalStatus, From(source=<antidote._factory object ...>)])\n",
      "\n",
      "649 ns ± 4.56 ns per loop (mean ± std. dev. of 7 runs, 1000000 loops each)\n"
     ]
    }
   ],
   "source": [
    "from typing import Annotated\n",
    "from antidote import Service, inject, factory, Provide, From, __version__, is_compiled\n",
    "assert is_compiled()\n",
    "title = f\"Antidote: {__version__} (compiled)\"\n",
    "\n",
    "class AntidoteSingleton(Service):\n",
    "    pass\n",
    "\n",
    "class AntidoteStatus(Service):\n",
    "    __antidote__ = Service.Conf(singleton=False)\n",
    "\n",
    "@factory\n",
    "def singleton_factory() -> ExternalSingleton:\n",
    "    return ExternalSingleton()\n",
    "\n",
    "@factory(singleton=False)\n",
    "def status_factory() -> ExternalStatus:\n",
    "    return ExternalStatus()\n",
    "\n",
    "@inject\n",
    "def antidote_f1(s: Provide[AntidoteSingleton]):\n",
    "    return s\n",
    "\n",
    "@inject\n",
    "def antidote_f2(s: Annotated[ExternalSingleton, From(singleton_factory)]):\n",
    "    return s\n",
    "\n",
    "@inject\n",
    "def antidote_f3(s: Provide[AntidoteStatus]):\n",
    "    return s\n",
    "\n",
    "@inject\n",
    "def antidote_f4(s: Annotated[ExternalStatus, From(status_factory)]):\n",
    "    return s\n",
    "\n",
    "@inject\n",
    "def antidote_f5(s1: Provide[AntidoteSingleton], \n",
    "                s2: Annotated[ExternalSingleton, From(singleton_factory)], \n",
    "                s3: Provide[AntidoteStatus],\n",
    "                s4: Annotated[ExternalStatus, From(status_factory)]):\n",
    "    return s1, s2, s3, s4\n",
    "    \n",
    "\n",
    "bench(f\"Antidote: {__version__} (compiled)\", [antidote_f1, antidote_f2, antidote_f3, antidote_f4, antidote_f5])"
   ]
  },
  {
   "cell_type": "code",
   "execution_count": 5,
   "id": "labeled-broadcast",
   "metadata": {
    "pycharm": {
     "name": "#%%\n"
    }
   },
   "outputs": [
    {
     "name": "stdout",
     "output_type": "stream",
     "text": [
      "Python Inject: 4.3.1\n",
      "\n",
      "\n",
      "f1(s: Singleton)\n",
      "\n",
      "1.87 µs ± 42.1 ns per loop (mean ± std. dev. of 7 runs, 100000 loops each)\n",
      "\n",
      "\n",
      "f2(s: ExternalSingleton)\n",
      "\n",
      "1.98 µs ± 42.8 ns per loop (mean ± std. dev. of 7 runs, 1000000 loops each)\n",
      "\n",
      "\n",
      "f3(s: Status)\n",
      "\n",
      "1.97 µs ± 24.2 ns per loop (mean ± std. dev. of 7 runs, 1000000 loops each)\n",
      "\n",
      "\n",
      "f4(s: ExternalStatus)\n",
      "\n",
      "2.07 µs ± 47.1 ns per loop (mean ± std. dev. of 7 runs, 100000 loops each)\n",
      "\n",
      "\n",
      "f5(s1: Singleton,\n",
      "   s2: ExternalSingleton,\n",
      "   s3: Status,\n",
      "   s4: ExternalStatus)\n",
      "\n",
      "3.54 µs ± 26.3 ns per loop (mean ± std. dev. of 7 runs, 100000 loops each)\n"
     ]
    }
   ],
   "source": [
    "def build_python_inject_bench():\n",
    "    import inject\n",
    "    title = f\"Python Inject: {inject.__version__}\"\n",
    "\n",
    "    class Singleton:\n",
    "        pass\n",
    "    \n",
    "    class Status:\n",
    "        pass\n",
    "    \n",
    "    def singleton_factory():\n",
    "        return ExternalSingleton()\n",
    "    \n",
    "    def status_factory():\n",
    "        return ExternalStatus()\n",
    "\n",
    "    def config(binder):\n",
    "        binder.bind(Singleton, Singleton)\n",
    "        binder.bind(ExternalSingleton, singleton_factory)\n",
    "        binder.bind_to_provider(ExternalStatus, status_factory)\n",
    "        \n",
    "    inject.configure(config)\n",
    "\n",
    "    @inject.autoparams()\n",
    "    def f1(s: Singleton):\n",
    "        return s\n",
    "\n",
    "    @inject.autoparams()\n",
    "    def f2(s: ExternalSingleton):\n",
    "        return s\n",
    "\n",
    "    @inject.autoparams()\n",
    "    def f3(s: Status):\n",
    "        return s\n",
    "\n",
    "    @inject.autoparams()\n",
    "    def f4(s: ExternalStatus):\n",
    "        return s\n",
    "\n",
    "    @inject.autoparams()\n",
    "    def f5(s1: Singleton, \n",
    "           s2: ExternalSingleton, \n",
    "           s3: Status,\n",
    "           s4: ExternalStatus):\n",
    "        return s1, s2, s3, s4\n",
    "    \n",
    "    return title, [f1, f2, f3, f4, f5]\n",
    "\n",
    "bench(*build_python_inject_bench())"
   ]
  },
  {
   "cell_type": "code",
   "execution_count": 6,
   "id": "funky-weight",
   "metadata": {
    "pycharm": {
     "name": "#%%\n"
    }
   },
   "outputs": [
    {
     "name": "stdout",
     "output_type": "stream",
     "text": [
      "Injector:  0.18.4\n",
      "\n",
      "\n",
      "f1(s: Singleton)\n",
      "\n",
      "30.3 µs ± 546 ns per loop (mean ± std. dev. of 7 runs, 10000 loops each)\n",
      "\n",
      "\n",
      "f2(s: ExternalSingleton)\n",
      "\n",
      "31.7 µs ± 1.05 µs per loop (mean ± std. dev. of 7 runs, 10000 loops each)\n",
      "\n",
      "\n",
      "f3(s: Status)\n",
      "\n",
      "31.9 µs ± 381 ns per loop (mean ± std. dev. of 7 runs, 10000 loops each)\n",
      "\n",
      "\n",
      "f4(s: ExternalStatus)\n",
      "\n",
      "31.3 µs ± 413 ns per loop (mean ± std. dev. of 7 runs, 10000 loops each)\n",
      "\n",
      "\n",
      "f5(s1: Singleton,\n",
      "   s2: ExternalSingleton,\n",
      "   s3: Status,\n",
      "   s4: ExternalStatus)\n",
      "\n",
      "50.5 µs ± 853 ns per loop (mean ± std. dev. of 7 runs, 10000 loops each)\n"
     ]
    }
   ],
   "source": [
    "def build_injector_bench():\n",
    "    from injector import Injector, inject, singleton, Module, provider, __version__\n",
    "    from functools import partial, wraps\n",
    "\n",
    "    title = f\"Injector:  {__version__}\"\n",
    "    \n",
    "    @singleton\n",
    "    class Singleton:\n",
    "        pass\n",
    "    \n",
    "    class Status:\n",
    "        pass\n",
    "    \n",
    "    @singleton\n",
    "    @provider\n",
    "    def singleton_factory() -> ExternalSingleton:\n",
    "        return ExternalSingleton()\n",
    "    \n",
    "    @provider\n",
    "    def status_factory() -> ExternalStatus:\n",
    "        return ExternalStatus()\n",
    "\n",
    "    @inject\n",
    "    def f1(s: Singleton):\n",
    "        return s\n",
    "\n",
    "    @inject\n",
    "    def f2(s: ExternalSingleton):\n",
    "        return s\n",
    "\n",
    "    @inject\n",
    "    def f3(s: Status):\n",
    "        return s\n",
    "\n",
    "    @inject\n",
    "    def f4(s: ExternalStatus):\n",
    "        return s\n",
    "\n",
    "    @inject\n",
    "    def f5(s1: Singleton, \n",
    "           s2: ExternalSingleton, \n",
    "           s3: Status,\n",
    "           s4: ExternalStatus):\n",
    "        return s1, s2, s3, s4\n",
    "    \n",
    "    injector = Injector()\n",
    "    return title, [\n",
    "        wraps(f)(partial(injector.call_with_injection, f))\n",
    "        for f in [f1, f2, f3, f4, f5]\n",
    "    ]\n",
    "\n",
    "bench(*build_injector_bench())"
   ]
  },
  {
   "cell_type": "code",
   "execution_count": 7,
   "id": "destroyed-muslim",
   "metadata": {
    "pycharm": {
     "name": "#%%\n"
    }
   },
   "outputs": [
    {
     "name": "stdout",
     "output_type": "stream",
     "text": [
      "Lagom: 1.0.0\n",
      "\n",
      "\n",
      "f1(s: BenchSingleton)\n",
      "\n",
      "5.45 µs ± 154 ns per loop (mean ± std. dev. of 7 runs, 100000 loops each)\n",
      "\n",
      "\n",
      "f2(s: ExternalSingleton)\n",
      "\n",
      "5.63 µs ± 246 ns per loop (mean ± std. dev. of 7 runs, 100000 loops each)\n",
      "\n",
      "\n",
      "f3(s: Status)\n",
      "\n",
      "9.83 µs ± 156 ns per loop (mean ± std. dev. of 7 runs, 100000 loops each)\n",
      "\n",
      "\n",
      "f4(s: ExternalStatus)\n",
      "\n",
      "5.62 µs ± 176 ns per loop (mean ± std. dev. of 7 runs, 100000 loops each)\n",
      "\n",
      "\n",
      "f5(s1: BenchSingleton,\n",
      "   s2: ExternalSingleton,\n",
      "   s3: Status,\n",
      "   s4: ExternalStatus)\n",
      "\n",
      "13.6 µs ± 295 ns per loop (mean ± std. dev. of 7 runs, 100000 loops each)\n"
     ]
    }
   ],
   "source": [
    "def build_lagom_bench():\n",
    "    from lagom import Container, Singleton, dependency_definition, magic_bind_to_container, __version__\n",
    "    from functools import partial\n",
    "    \n",
    "    title = f\"Lagom: {__version__}\"\n",
    "\n",
    "    class BenchSingleton:\n",
    "        pass\n",
    "    \n",
    "    class Status:\n",
    "        pass\n",
    "    \n",
    "    def singleton_factory() -> ExternalSingleton:\n",
    "        return ExternalSingleton()\n",
    "    \n",
    "    container = Container()\n",
    "    container[BenchSingleton] = BenchSingleton()\n",
    "    container[Status] = Status\n",
    "    container[ExternalSingleton] = Singleton(singleton_factory)\n",
    "    \n",
    "    @dependency_definition(container)\n",
    "    def status_factory() -> ExternalStatus:\n",
    "        return ExternalStatus()\n",
    "\n",
    "    @magic_bind_to_container(container)\n",
    "    def f1(s: BenchSingleton):\n",
    "        return s\n",
    "\n",
    "    @magic_bind_to_container(container)\n",
    "    def f2(s: ExternalSingleton):\n",
    "        return s\n",
    "\n",
    "    @magic_bind_to_container(container)\n",
    "    def f3(s: Status):\n",
    "        return s\n",
    "\n",
    "    @magic_bind_to_container(container)\n",
    "    def f4(s: ExternalStatus):\n",
    "        return s\n",
    "\n",
    "    @magic_bind_to_container(container)\n",
    "    def f5(s1: BenchSingleton, \n",
    "           s2: ExternalSingleton, \n",
    "           s3: Status,\n",
    "           s4: ExternalStatus):\n",
    "        return s1, s2, s3, s4\n",
    "    \n",
    "    return title, [f1, f2, f3, f4, f5]\n",
    "\n",
    "bench(*build_lagom_bench())"
   ]
  },
  {
   "cell_type": "code",
   "execution_count": 8,
   "id": "controlled-courage",
   "metadata": {
    "pycharm": {
     "name": "#%%\n"
    }
   },
   "outputs": [
    {
     "name": "stdout",
     "output_type": "stream",
     "text": [
      "Dependency Injector: 4.14.0\n",
      "\n",
      "\n",
      "di_f1(s: DiSingleton = <dependency_injector.wiring object ...>)\n",
      "\n",
      "741 ns ± 5.26 ns per loop (mean ± std. dev. of 7 runs, 1000000 loops each)\n",
      "\n",
      "\n",
      "di_f2(s: ExternalSingleton = <dependency_injector.wiring object ...>)\n",
      "\n",
      "782 ns ± 20 ns per loop (mean ± std. dev. of 7 runs, 1000000 loops each)\n",
      "\n",
      "\n",
      "di_f3(s: DiStatus = <dependency_injector.wiring object ...>)\n",
      "\n",
      "2.3 µs ± 21.8 ns per loop (mean ± std. dev. of 7 runs, 100000 loops each)\n",
      "\n",
      "\n",
      "di_f4(s: ExternalStatus = <dependency_injector.wiring object ...>)\n",
      "\n",
      "2.34 µs ± 25.8 ns per loop (mean ± std. dev. of 7 runs, 100000 loops each)\n",
      "\n",
      "\n",
      "di_f5(s1: DiSingleton = <dependency_injector.wiring object ...>,\n",
      "      s2: ExternalSingleton = <dependency_injector.wiring object ...>,\n",
      "      s3: DiStatus = <dependency_injector.wiring object ...>,\n",
      "      s4: ExternalStatus = <dependency_injector.wiring object ...>)\n",
      "\n",
      "4.46 µs ± 13.4 ns per loop (mean ± std. dev. of 7 runs, 100000 loops each)\n"
     ]
    }
   ],
   "source": [
    "import sys\n",
    "from dependency_injector import containers, providers, __version__\n",
    "from dependency_injector.wiring import inject, Provide\n",
    "\n",
    "class DiSingleton:\n",
    "    pass\n",
    "\n",
    "class DiStatus:\n",
    "    pass\n",
    "    \n",
    "def di_singleton_factory():\n",
    "    return ExternalSingleton()\n",
    "\n",
    "def di_status_factory():\n",
    "    return ExternalStatus()\n",
    "\n",
    "\n",
    "class DiContainer(containers.DeclarativeContainer):\n",
    "    status = providers.Factory(DiStatus)\n",
    "    singleton = providers.Singleton(DiSingleton)\n",
    "    external_status = providers.Factory(di_status_factory)\n",
    "    external_singleton = providers.Singleton(di_singleton_factory)\n",
    "\n",
    "@inject\n",
    "def di_f1(s: DiSingleton = Provide[DiContainer.singleton]):\n",
    "    return s\n",
    "\n",
    "@inject\n",
    "def di_f2(s: ExternalSingleton = Provide[DiContainer.external_singleton]):\n",
    "    return s\n",
    "\n",
    "@inject\n",
    "def di_f3(s: DiStatus = Provide[DiContainer.status]):\n",
    "    return s\n",
    "\n",
    "@inject\n",
    "def di_f4(s: ExternalStatus = Provide[DiContainer.external_status]):\n",
    "    return s\n",
    "\n",
    "@inject\n",
    "def di_f5(s1: DiSingleton = Provide[DiContainer.singleton], \n",
    "          s2: ExternalSingleton = Provide[DiContainer.external_singleton], \n",
    "          s3: DiStatus = Provide[DiContainer.status],\n",
    "          s4: ExternalStatus = Provide[DiContainer.external_status]):\n",
    "    return s1, s2, s3, s4\n",
    "\n",
    "\n",
    "di_container = DiContainer()\n",
    "di_container.wire(modules=[sys.modules[__name__]])\n",
    "\n",
    "bench(f\"Dependency Injector: {__version__}\", [di_f1, di_f2, di_f3, di_f4, di_f5])"
   ]
  },
  {
   "cell_type": "code",
   "execution_count": null,
   "id": "beneficial-arrangement",
   "metadata": {
    "pycharm": {
     "name": "#%%\n"
    }
   },
   "outputs": [],
   "source": [
    "# Not keeping image in Git.\n",
    "import matplotlib\n",
    "%matplotlib inline\n",
    "import matplotlib.pyplot as plt\n",
    "import pandas as pd\n",
    "\n",
    "f,(top_ax,bot_ax) = plt.subplots(2,1, sharex=True, figsize=(8,5), dpi=110)\n",
    "\n",
    "columns = [name \n",
    "           for name, _ \n",
    "           in sorted(((name, ts[-1].average) \n",
    "                       for name, ts \n",
    "                       in timings.items()), \n",
    "                     key=lambda x: x[1])]\n",
    "\n",
    "df = pd.DataFrame(\n",
    "    data = {\n",
    "        library: [t.average * 1e6 for t in ts]\n",
    "        for library, ts in timings.items()\n",
    "    },\n",
    "    index = ['singleton service', 'singleton factory', 'service', 'factory', 'all']\n",
    ")[columns]\n",
    "\n",
    "df.plot.bar(ylim=[7, 70], ax=top_ax)\n",
    "df.plot.bar(ylim=[0, 7], ax=bot_ax, legend=False, ylabel='Time (µs)', xlabel='Injection case')\n",
    "\n",
    "top_ax.spines['bottom'].set_visible(False)\n",
    "bot_ax.spines['top'].set_visible(False)\n",
    "\n",
    "top_ax.set_title(\"Comparison benchmark\")\n",
    "plt.tight_layout()\n"
   ]
  },
  {
   "cell_type": "markdown",
   "id": "distinct-option",
   "metadata": {
    "pycharm": {
     "name": "#%% md\n"
    }
   },
   "source": [
    "## Isolated container Benchmark\n",
    "\n",
    "Here we test how costly it is to create an isolated container with existing dependencies. We see that dependency_injector is two orders of magnitude slower than Antidote."
   ]
  },
  {
   "cell_type": "code",
   "execution_count": 10,
   "id": "twenty-paste",
   "metadata": {
    "pycharm": {
     "name": "#%%\n"
    }
   },
   "outputs": [
    {
     "name": "stdout",
     "output_type": "stream",
     "text": [
      "1.18 ms ± 28.3 µs per loop (mean ± std. dev. of 7 runs, 1000 loops each)\n"
     ]
    }
   ],
   "source": [
    "def isolated_di_container():\n",
    "    container = DiContainer()\n",
    "    container.wire(modules=[sys.modules[__name__]])\n",
    "    # yield and execute test code\n",
    "    container.unwire()\n",
    "\n",
    "%timeit isolated_di_container()"
   ]
  },
  {
   "cell_type": "code",
   "execution_count": 11,
   "id": "neither-paper",
   "metadata": {
    "pycharm": {
     "name": "#%%\n"
    }
   },
   "outputs": [
    {
     "name": "stdout",
     "output_type": "stream",
     "text": [
      "10 µs ± 91.9 ns per loop (mean ± std. dev. of 7 runs, 100000 loops each)\n"
     ]
    }
   ],
   "source": [
    "from antidote import world\n",
    "\n",
    "def isolated_antidote_container():\n",
    "    with world.test.clone():\n",
    "        pass  # yield and execute test code\n",
    "\n",
    "%timeit isolated_antidote_container()"
   ]
  },
  {
   "cell_type": "code",
   "execution_count": null,
   "id": "social-conditioning",
   "metadata": {
    "pycharm": {
     "name": "#%%\n"
    }
   },
   "outputs": [],
   "source": []
  }
 ],
 "metadata": {
  "kernelspec": {
   "display_name": "Python 3",
   "language": "python",
   "name": "python3"
  },
  "language_info": {
   "codemirror_mode": {
    "name": "ipython",
    "version": 3
   },
   "file_extension": ".py",
   "mimetype": "text/x-python",
   "name": "python",
   "nbconvert_exporter": "python",
   "pygments_lexer": "ipython3",
   "version": "3.9.1"
  }
 },
 "nbformat": 4,
 "nbformat_minor": 5
}