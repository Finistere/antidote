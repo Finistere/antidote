{
 "cells": [
  {
   "cell_type": "markdown",
   "metadata": {
    "pycharm": {}
   },
   "source": [
    "## Injection benchmark\n",
    "\n",
    "### Setup"
   ]
  },
  {
   "cell_type": "code",
   "execution_count": 1,
   "metadata": {},
   "outputs": [
    {
     "name": "stdout",
     "output_type": "stream",
     "text": [
      "Antidote: 0.8.0 (cython)\n",
      "Python 3.8.5 (default, Aug 21 2020, 11:31:30) \n",
      "[GCC 9.3.0]\n"
     ]
    }
   ],
   "source": [
    "import sys\n",
    "from antidote import __version__, is_compiled\n",
    "print(f\"Antidote: {__version__()} {'(cython)' if is_compiled() else ''}\")\n",
    "print(f\"Python {sys.version}\")"
   ]
  },
  {
   "cell_type": "code",
   "execution_count": 2,
   "metadata": {
    "pycharm": {
     "is_executing": true
    },
    "scrolled": true
   },
   "outputs": [],
   "source": [
    "from antidote import world, Service, inject\n",
    "\n",
    "class Service1(Service):\n",
    "    pass\n",
    "\n",
    "\n",
    "class Service2(Service):\n",
    "    def __init__(self, service1: Service1):\n",
    "        self.service1 = service1\n",
    "\n",
    "\n",
    "class Service3(Service):\n",
    "    def __init__(self, service1: Service1, service2: Service2):\n",
    "        self.service1 = service1\n",
    "        self.service2 = service2\n",
    "\n",
    "\n",
    "class Service4(Service):\n",
    "    def __init__(self, service1: Service1, service2: Service2, service3: Service3):\n",
    "        self.service1 = service1\n",
    "        self.service2 = service2\n",
    "        self.service3 = service3"
   ]
  },
  {
   "cell_type": "markdown",
   "metadata": {
    "pycharm": {}
   },
   "source": [
    "### Results\n",
    "The key take away from those benchmarks, is to avoid using injection on short functions which are called repeatedly, in a loop typically. In the most common use case of dependency injection, service instantiation, the overhead should be negligible.\n",
    "\n",
    "It should be noted that in most cases the worst scenario is used, as functions do nothing. In the real world, pure python functions are a lot slower. So to put the following results into perspective, here is the time needed to decode this simple JSON."
   ]
  },
  {
   "cell_type": "code",
   "execution_count": 3,
   "metadata": {},
   "outputs": [
    {
     "name": "stdout",
     "output_type": "stream",
     "text": [
      "5.55 µs ± 2.07 µs per loop (mean ± std. dev. of 7 runs, 100000 loops each)\n"
     ]
    }
   ],
   "source": [
    "import json\n",
    "%timeit json.loads('{ \"name\":\"John\", \"age\":30, \"city\":\"New York\"}')"
   ]
  },
  {
   "cell_type": "markdown",
   "metadata": {
    "pycharm": {}
   },
   "source": [
    "### Function call\n",
    "\n",
    "Injection overhead is here measured with a function which does nothing."
   ]
  },
  {
   "cell_type": "code",
   "execution_count": 4,
   "metadata": {
    "pycharm": {
     "is_executing": true
    },
    "scrolled": true
   },
   "outputs": [],
   "source": [
    "def f(s1: Service1, s2: Service2, s3: Service3, s4: Service4):\n",
    "    return s1, s2, s3, s4"
   ]
  },
  {
   "cell_type": "markdown",
   "metadata": {
    "pycharm": {}
   },
   "source": [
    "Time necessary to only execute the function, without retrieving the services"
   ]
  },
  {
   "cell_type": "code",
   "execution_count": 5,
   "metadata": {
    "pycharm": {
     "is_executing": true
    }
   },
   "outputs": [
    {
     "name": "stdout",
     "output_type": "stream",
     "text": [
      "181 ns ± 29.2 ns per loop (mean ± std. dev. of 7 runs, 1000000 loops each)\n"
     ]
    }
   ],
   "source": [
    "args = (world.get(Service1), world.get(Service2), world.get(Service3), world.get(Service4))\n",
    "%timeit f(*args)"
   ]
  },
  {
   "cell_type": "markdown",
   "metadata": {
    "pycharm": {}
   },
   "source": [
    "Overhead of the injection when all argument must be retrieved from the container."
   ]
  },
  {
   "cell_type": "code",
   "execution_count": 6,
   "metadata": {
    "pycharm": {
     "is_executing": true
    },
    "scrolled": true
   },
   "outputs": [
    {
     "name": "stdout",
     "output_type": "stream",
     "text": [
      "729 ns ± 283 ns per loop (mean ± std. dev. of 7 runs, 1000000 loops each)\n"
     ]
    }
   ],
   "source": [
    "f_injected = inject(f)\n",
    "assert f(*args) == f_injected()\n",
    "%timeit f_injected()"
   ]
  },
  {
   "cell_type": "markdown",
   "metadata": {
    "pycharm": {}
   },
   "source": [
    "Overhead of the injection when no argument has to be retrieved."
   ]
  },
  {
   "cell_type": "code",
   "execution_count": 7,
   "metadata": {
    "pycharm": {
     "is_executing": true
    }
   },
   "outputs": [
    {
     "name": "stdout",
     "output_type": "stream",
     "text": [
      "213 ns ± 7.39 ns per loop (mean ± std. dev. of 7 runs, 1000000 loops each)\n"
     ]
    }
   ],
   "source": [
    "assert f(*args) == f_injected(*args)\n",
    "%timeit f_injected(*args)"
   ]
  },
  {
   "cell_type": "markdown",
   "metadata": {},
   "source": [
    "### Method call"
   ]
  },
  {
   "cell_type": "code",
   "execution_count": 8,
   "metadata": {},
   "outputs": [],
   "source": [
    "class Dummy:\n",
    "    @inject\n",
    "    def f(self, s1: Service1, s2: Service2, s3: Service3, s4: Service4):\n",
    "        return s1, s2, s3, s4"
   ]
  },
  {
   "cell_type": "code",
   "execution_count": 9,
   "metadata": {},
   "outputs": [
    {
     "name": "stdout",
     "output_type": "stream",
     "text": [
      "584 ns ± 34.1 ns per loop (mean ± std. dev. of 7 runs, 1000000 loops each)\n"
     ]
    }
   ],
   "source": [
    "%timeit Dummy().f(*args)"
   ]
  },
  {
   "cell_type": "code",
   "execution_count": 10,
   "metadata": {},
   "outputs": [
    {
     "name": "stdout",
     "output_type": "stream",
     "text": [
      "832 ns ± 46.6 ns per loop (mean ± std. dev. of 7 runs, 1000000 loops each)\n"
     ]
    }
   ],
   "source": [
    "d = Dummy()\n",
    "assert d.f(*args) == d.f()\n",
    "%timeit d.f()"
   ]
  },
  {
   "cell_type": "markdown",
   "metadata": {},
   "source": [
    "### Non singleton\n",
    "\n",
    "We compare the overhead of creating the whole service each time."
   ]
  },
  {
   "cell_type": "code",
   "execution_count": 11,
   "metadata": {},
   "outputs": [],
   "source": [
    "class ServiceX(Service):\n",
    "    __antidote__ = Service.Conf(singleton=False)\n",
    "\n",
    "@inject\n",
    "def f_not_singleton(s: ServiceX):\n",
    "    return s"
   ]
  },
  {
   "cell_type": "code",
   "execution_count": 12,
   "metadata": {},
   "outputs": [
    {
     "name": "stdout",
     "output_type": "stream",
     "text": [
      "651 ns ± 26.1 ns per loop (mean ± std. dev. of 7 runs, 1000000 loops each)\n"
     ]
    }
   ],
   "source": [
    "assert isinstance(f_not_singleton(), ServiceX)\n",
    "assert f_not_singleton() is not f_not_singleton()\n",
    "%timeit f_not_singleton()"
   ]
  },
  {
   "cell_type": "markdown",
   "metadata": {},
   "source": [
    "### Factory"
   ]
  },
  {
   "cell_type": "code",
   "execution_count": 13,
   "metadata": {},
   "outputs": [],
   "source": [
    "from antidote import factory\n",
    "\n",
    "class ServiceF:\n",
    "    pass\n",
    "\n",
    "@factory(singleton=False)\n",
    "def service_factory() -> ServiceF:\n",
    "    return ServiceF()\n",
    "\n",
    "@inject(dependencies=(ServiceF @ service_factory,))\n",
    "def f_factory(s):\n",
    "    return s"
   ]
  },
  {
   "cell_type": "code",
   "execution_count": 14,
   "metadata": {},
   "outputs": [
    {
     "name": "stdout",
     "output_type": "stream",
     "text": [
      "719 ns ± 44.5 ns per loop (mean ± std. dev. of 7 runs, 1000000 loops each)\n"
     ]
    }
   ],
   "source": [
    "assert isinstance(f_factory(), ServiceF)\n",
    "assert f_factory() is not f_factory()\n",
    "%timeit f_factory()"
   ]
  },
  {
   "cell_type": "markdown",
   "metadata": {},
   "source": [
    "### Custom Provider"
   ]
  },
  {
   "cell_type": "code",
   "execution_count": 15,
   "metadata": {},
   "outputs": [],
   "source": [
    "import time\n",
    "from antidote import world\n",
    "from antidote.core import Provider, DependencyInstance\n",
    "dep = object()\n",
    "dep2 = object()\n",
    "\n",
    "@world.provider\n",
    "class SlowProvider(Provider):\n",
    "    def exists(self, dependency):\n",
    "        return dependency is dep2\n",
    "    \n",
    "    def provide(self, dependency, container):\n",
    "        time.sleep(.01)\n",
    "        return DependencyInstance(\"sleepy\")\n",
    "            \n",
    "\n",
    "@world.provider\n",
    "class CustomProvider(Provider):\n",
    "    def exists(self, dependency):\n",
    "        return dependency is dep\n",
    "    \n",
    "    def provide(self, dependency, container):\n",
    "        return DependencyInstance(\"Found it !\")\n",
    "\n",
    "\n",
    "@inject(dependencies=dict(d=dep))\n",
    "def f_provider(d):\n",
    "    return d"
   ]
  },
  {
   "cell_type": "code",
   "execution_count": 16,
   "metadata": {},
   "outputs": [
    {
     "name": "stdout",
     "output_type": "stream",
     "text": [
      "1.3 µs ± 77.8 ns per loop (mean ± std. dev. of 7 runs, 1000000 loops each)\n"
     ]
    }
   ],
   "source": [
    "assert f_provider() == \"Found it !\"\n",
    "%timeit f_provider()"
   ]
  },
  {
   "cell_type": "markdown",
   "metadata": {
    "pycharm": {}
   },
   "source": [
    "### Object instantiation"
   ]
  },
  {
   "cell_type": "code",
   "execution_count": 17,
   "metadata": {
    "pycharm": {
     "is_executing": true
    },
    "scrolled": true
   },
   "outputs": [
    {
     "name": "stdout",
     "output_type": "stream",
     "text": [
      "509 ns ± 20.3 ns per loop (mean ± std. dev. of 7 runs, 1000000 loops each)\n"
     ]
    }
   ],
   "source": [
    "class Obj:\n",
    "    def __init__(self, s1: Service1, s2: Service2, s3: Service3, s4: Service4):\n",
    "        self.s1 = s1\n",
    "        self.s2 = s2\n",
    "        self.s3 = s3\n",
    "        self.s4 = s4\n",
    "\n",
    "%timeit Obj(*args)"
   ]
  },
  {
   "cell_type": "code",
   "execution_count": 18,
   "metadata": {
    "pycharm": {
     "is_executing": true
    },
    "scrolled": true
   },
   "outputs": [
    {
     "name": "stdout",
     "output_type": "stream",
     "text": [
      "1.4 µs ± 48.9 ns per loop (mean ± std. dev. of 7 runs, 1000000 loops each)\n"
     ]
    }
   ],
   "source": [
    "class ObjInjected:\n",
    "    @inject\n",
    "    def __init__(self, s1: Service1, s2: Service2, s3: Service3, s4: Service4):\n",
    "        self.s1 = s1\n",
    "        self.s2 = s2\n",
    "        self.s3 = s3\n",
    "        self.s4 = s4\n",
    "\n",
    "%timeit ObjInjected()"
   ]
  },
  {
   "cell_type": "markdown",
   "metadata": {
    "pycharm": {
     "metadata": false,
     "name": "#%% md\n"
    }
   },
   "source": [
    "### Configuration\n"
   ]
  },
  {
   "cell_type": "code",
   "execution_count": 19,
   "metadata": {
    "pycharm": {
     "is_executing": true,
     "metadata": false,
     "name": "#%%\n"
    }
   },
   "outputs": [],
   "source": [
    "from antidote import Constants\n",
    "\n",
    "class Conf(Constants):\n",
    "    A = 'A'\n",
    "    B = 'B'\n",
    "\n",
    "    def get(self, key):\n",
    "        return key"
   ]
  },
  {
   "cell_type": "code",
   "execution_count": 20,
   "metadata": {
    "pycharm": {
     "is_executing": true,
     "metadata": false,
     "name": "#%%\n"
    }
   },
   "outputs": [
    {
     "name": "stdout",
     "output_type": "stream",
     "text": [
      "134 ns ± 7.48 ns per loop (mean ± std. dev. of 7 runs, 10000000 loops each)\n"
     ]
    }
   ],
   "source": [
    "def g(a, b):\n",
    "    return a, b\n",
    "\n",
    "%timeit g('A', 'B')"
   ]
  },
  {
   "cell_type": "code",
   "execution_count": 21,
   "metadata": {
    "pycharm": {
     "is_executing": true,
     "metadata": false,
     "name": "#%%\n"
    }
   },
   "outputs": [
    {
     "name": "stdout",
     "output_type": "stream",
     "text": [
      "395 ns ± 14.8 ns per loop (mean ± std. dev. of 7 runs, 1000000 loops each)\n"
     ]
    }
   ],
   "source": [
    "conf = Conf()\n",
    "%timeit g(conf.get('A'), conf.get('B'))"
   ]
  },
  {
   "cell_type": "code",
   "execution_count": 22,
   "metadata": {
    "pycharm": {
     "is_executing": true,
     "metadata": false,
     "name": "#%%\n"
    }
   },
   "outputs": [
    {
     "name": "stdout",
     "output_type": "stream",
     "text": [
      "512 ns ± 21.9 ns per loop (mean ± std. dev. of 7 runs, 1000000 loops each)\n"
     ]
    }
   ],
   "source": [
    "g_injected = inject(g, dependencies=(Conf.A, Conf.B))\n",
    "\n",
    "assert g(conf.get('A'), conf.get('B')) == g_injected()\n",
    "assert g(conf.A, conf.B) == g_injected()\n",
    "\n",
    "%timeit g_injected()"
   ]
  },
  {
   "cell_type": "code",
   "execution_count": null,
   "metadata": {},
   "outputs": [],
   "source": []
  }
 ],
 "metadata": {
  "kernelspec": {
   "display_name": "antidote-3.8",
   "language": "python",
   "name": "antidote-3.8"
  },
  "language_info": {
   "codemirror_mode": {
    "name": "ipython",
    "version": 3
   },
   "file_extension": ".py",
   "mimetype": "text/x-python",
   "name": "python",
   "nbconvert_exporter": "python",
   "pygments_lexer": "ipython3",
   "version": "3.8.5"
  }
 },
 "nbformat": 4,
 "nbformat_minor": 2
}
