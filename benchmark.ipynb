{
 "cells": [
  {
   "cell_type": "markdown",
   "metadata": {},
   "source": [
    "## Injection benchmark\n",
    "\n",
    "CPython 3.7.2 and an i7 7700K were used for the timings"
   ]
  },
  {
   "cell_type": "code",
   "execution_count": 1,
   "metadata": {},
   "outputs": [
    {
     "name": "stdout",
     "output_type": "stream",
     "text": [
      "Antidote: 0.3.1.dev40+g4bc744b.d20190203\n",
      "Python 3.7.2 (default, Dec 29 2018, 19:09:49) \n",
      "[GCC 7.3.0]\n"
     ]
    }
   ],
   "source": [
    "import sys\n",
    "from antidote import __version__\n",
    "print(f\"Antidote: {__version__}\")\n",
    "print(f\"Python {sys.version}\")"
   ]
  },
  {
   "cell_type": "code",
   "execution_count": 2,
   "metadata": {
    "scrolled": true
   },
   "outputs": [],
   "source": [
    "from antidote import world, register, inject"
   ]
  },
  {
   "cell_type": "code",
   "execution_count": 3,
   "metadata": {
    "scrolled": true
   },
   "outputs": [],
   "source": [
    "@register\n",
    "class Service1:\n",
    "    pass\n",
    "\n",
    "\n",
    "@register\n",
    "class Service2:\n",
    "    def __init__(self, service1: Service1):\n",
    "        self.service1 = service1\n",
    "       \n",
    " \n",
    "@register\n",
    "class Service3:\n",
    "    def __init__(self, service1: Service1, service2: Service2):\n",
    "        self.service1 = service1\n",
    "        self.service2 = service2\n",
    "\n",
    "  \n",
    "@register\n",
    "class Service4:\n",
    "    def __init__(self, service1: Service1, service2: Service2, service3: Service3):\n",
    "        self.service1 = service1\n",
    "        self.service2 = service2\n",
    "        self.service3 = service3\n"
   ]
  },
  {
   "cell_type": "markdown",
   "metadata": {},
   "source": [
    "### Function call\n",
    "\n",
    "Injection overhead is here measured with a function which does nothing."
   ]
  },
  {
   "cell_type": "code",
   "execution_count": 4,
   "metadata": {
    "scrolled": true
   },
   "outputs": [],
   "source": [
    "def f(s1: Service1, s2: Service2, s3: Service3, s4: Service4):\n",
    "    return s1, s2, s3, s4"
   ]
  },
  {
   "cell_type": "markdown",
   "metadata": {},
   "source": [
    "Time necessary to only execute the function, without retrieving the services"
   ]
  },
  {
   "cell_type": "code",
   "execution_count": 5,
   "metadata": {},
   "outputs": [
    {
     "name": "stdout",
     "output_type": "stream",
     "text": [
      "243 ns ± 1.59 ns per loop (mean ± std. dev. of 7 runs, 1000000 loops each)\n"
     ]
    }
   ],
   "source": [
    "args = (world.get(Service1), world.get(Service2), world.get(Service3), world.get(Service4))\n",
    "%timeit f(*args)"
   ]
  },
  {
   "cell_type": "markdown",
   "metadata": {},
   "source": [
    "Overhead of the injection when all argument must be retrieved from the container."
   ]
  },
  {
   "cell_type": "code",
   "execution_count": 6,
   "metadata": {
    "scrolled": true
   },
   "outputs": [
    {
     "name": "stdout",
     "output_type": "stream",
     "text": [
      "857 ns ± 16 ns per loop (mean ± std. dev. of 7 runs, 1000000 loops each)\n"
     ]
    }
   ],
   "source": [
    "f_injected = inject(f)\n",
    "assert f(*args) == f_injected()\n",
    "%timeit f_injected()"
   ]
  },
  {
   "cell_type": "markdown",
   "metadata": {},
   "source": [
    "Overhead of the injection when no argument has to be retrieved."
   ]
  },
  {
   "cell_type": "code",
   "execution_count": 7,
   "metadata": {},
   "outputs": [
    {
     "name": "stdout",
     "output_type": "stream",
     "text": [
      "331 ns ± 1.74 ns per loop (mean ± std. dev. of 7 runs, 1000000 loops each)\n"
     ]
    }
   ],
   "source": [
    "assert f(*args) == f_injected(*args)\n",
    "%timeit f_injected(*args)"
   ]
  },
  {
   "cell_type": "markdown",
   "metadata": {},
   "source": [
    "It should be noted that this is the worst scenario possible. In a real case example, the function would be much slower.\n",
    "To put those results into perspective, the overhead is roughly the time needed to decode this simple JSON."
   ]
  },
  {
   "cell_type": "code",
   "execution_count": 8,
   "metadata": {},
   "outputs": [
    {
     "name": "stdout",
     "output_type": "stream",
     "text": [
      "4.34 µs ± 78.6 ns per loop (mean ± std. dev. of 7 runs, 100000 loops each)\n"
     ]
    }
   ],
   "source": [
    "import json\n",
    "%timeit json.loads('{ \"name\":\"John\", \"age\":30, \"city\":\"New York\"}')"
   ]
  },
  {
   "cell_type": "markdown",
   "metadata": {},
   "source": [
    "### Object instantiation\n",
    "\n",
    "A similar benchmark is done with object instantiation."
   ]
  },
  {
   "cell_type": "code",
   "execution_count": 9,
   "metadata": {
    "scrolled": true
   },
   "outputs": [
    {
     "name": "stdout",
     "output_type": "stream",
     "text": [
      "689 ns ± 1.42 ns per loop (mean ± std. dev. of 7 runs, 1000000 loops each)\n"
     ]
    }
   ],
   "source": [
    "class Obj:\n",
    "    def __init__(self, s1: Service1, s2: Service2, s3: Service3, s4: Service4):\n",
    "        self.s1 = s1\n",
    "        self.s2 = s2\n",
    "        self.s3 = s3\n",
    "        self.s4 = s4\n",
    "\n",
    "%timeit Obj(*args)"
   ]
  },
  {
   "cell_type": "code",
   "execution_count": 10,
   "metadata": {
    "scrolled": true
   },
   "outputs": [
    {
     "name": "stdout",
     "output_type": "stream",
     "text": [
      "1.83 µs ± 35.1 ns per loop (mean ± std. dev. of 7 runs, 1000000 loops each)\n"
     ]
    }
   ],
   "source": [
    "class ObjInjected:\n",
    "    @inject\n",
    "    def __init__(self, s1: Service1, s2: Service2, s3: Service3, s4: Service4):\n",
    "        self.s1 = s1\n",
    "        self.s2 = s2\n",
    "        self.s3 = s3\n",
    "        self.s4 = s4\n",
    "\n",
    "%timeit ObjInjected()"
   ]
  },
  {
   "cell_type": "markdown",
   "metadata": {},
   "source": [
    "### Conclusion\n",
    "\n",
    "The key take away from those benchmarks, is to avoid using injection on short functions which are called repeatedly, in a loop typically. In the other cases, the overhead is considered to be negligeable."
   ]
  },
  {
   "cell_type": "code",
   "execution_count": null,
   "metadata": {},
   "outputs": [],
   "source": []
  }
 ],
 "metadata": {
  "kernelspec": {
   "display_name": "Python 3",
   "language": "python",
   "name": "python3"
  },
  "language_info": {
   "codemirror_mode": {
    "name": "ipython",
    "version": 3
   },
   "file_extension": ".py",
   "mimetype": "text/x-python",
   "name": "python",
   "nbconvert_exporter": "python",
   "pygments_lexer": "ipython3",
   "version": "3.7.2"
  }
 },
 "nbformat": 4,
 "nbformat_minor": 2
}
