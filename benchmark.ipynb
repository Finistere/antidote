{
 "cells": [
  {
   "cell_type": "markdown",
   "metadata": {},
   "source": [
    "## Simple overhead benchmark\n",
    "\n",
    "CPython 3.6.3 and an i7 7700K were used for the timings"
   ]
  },
  {
   "cell_type": "code",
   "execution_count": 1,
   "metadata": {
    "collapsed": true,
    "scrolled": true
   },
   "outputs": [],
   "source": [
    "from antidote import antidote\n",
    "import attr\n",
    "\n",
    "container = antidote.container"
   ]
  },
  {
   "cell_type": "code",
   "execution_count": 2,
   "metadata": {
    "collapsed": true,
    "scrolled": true
   },
   "outputs": [],
   "source": [
    "@antidote.register\n",
    "class Service1:\n",
    "    pass\n",
    "\n",
    "\n",
    "@antidote.register\n",
    "class Service2:\n",
    "    def __init__(self, service1: Service1):\n",
    "        self.service1 = service1\n",
    "       \n",
    " \n",
    "@antidote.register\n",
    "class Service3:\n",
    "    def __init__(self, service1: Service1, service2: Service2):\n",
    "        self.service1 = service1\n",
    "        self.service2 = service2\n",
    "\n",
    "  \n",
    "@antidote.register\n",
    "class Service4:\n",
    "    def __init__(self, service1: Service1, service2: Service2, service3: Service3):\n",
    "        self.service1 = service1\n",
    "        self.service2 = service2\n",
    "        self.service3 = service3"
   ]
  },
  {
   "cell_type": "markdown",
   "metadata": {},
   "source": [
    "### Function call"
   ]
  },
  {
   "cell_type": "code",
   "execution_count": 3,
   "metadata": {
    "scrolled": true
   },
   "outputs": [
    {
     "name": "stdout",
     "output_type": "stream",
     "text": [
      "673 ns ± 2.11 ns per loop (mean ± std. dev. of 7 runs, 1000000 loops each)\n"
     ]
    }
   ],
   "source": [
    "def f(s1: Service1, s2: Service2, s3: Service3, s4: Service4):\n",
    "    return s1, s2, s3, s4\n",
    "\n",
    "%timeit f(container[Service1], container[Service2], container[Service3], container[Service4])"
   ]
  },
  {
   "cell_type": "code",
   "execution_count": 4,
   "metadata": {
    "scrolled": true
   },
   "outputs": [
    {
     "name": "stdout",
     "output_type": "stream",
     "text": [
      "1.77 µs ± 21.1 ns per loop (mean ± std. dev. of 7 runs, 1000000 loops each)\n"
     ]
    }
   ],
   "source": [
    "f_injected = antidote.inject(f)\n",
    "%timeit f_injected()"
   ]
  },
  {
   "cell_type": "code",
   "execution_count": 5,
   "metadata": {},
   "outputs": [
    {
     "name": "stdout",
     "output_type": "stream",
     "text": [
      "1.48 µs ± 23.5 ns per loop (mean ± std. dev. of 7 runs, 1000000 loops each)\n"
     ]
    }
   ],
   "source": [
    "%timeit f_injected(container[Service1], container[Service2], container[Service3], container[Service4])"
   ]
  },
  {
   "cell_type": "code",
   "execution_count": 6,
   "metadata": {
    "scrolled": true
   },
   "outputs": [
    {
     "name": "stdout",
     "output_type": "stream",
     "text": [
      "208 ns ± 0.56 ns per loop (mean ± std. dev. of 7 runs, 1000000 loops each)\n"
     ]
    }
   ],
   "source": [
    "f_bound = antidote.inject(f, bind=True)\n",
    "\n",
    "%timeit f_bound()"
   ]
  },
  {
   "cell_type": "markdown",
   "metadata": {},
   "source": [
    "### Object instantiation"
   ]
  },
  {
   "cell_type": "code",
   "execution_count": 7,
   "metadata": {
    "scrolled": true
   },
   "outputs": [
    {
     "name": "stdout",
     "output_type": "stream",
     "text": [
      "940 ns ± 8.97 ns per loop (mean ± std. dev. of 7 runs, 1000000 loops each)\n"
     ]
    }
   ],
   "source": [
    "class Obj:\n",
    "    s1: Service1\n",
    "    s2: Service2\n",
    "    s3: Service3\n",
    "    s4: Service4\n",
    "        \n",
    "    def __init__(self, s1: Service1, s2: Service2, s3: Service3, s4: Service4):\n",
    "        self.s1 = s1\n",
    "        self.s2 = s2\n",
    "        self.s3 = s3\n",
    "        self.s4 = s4\n",
    "\n",
    "%timeit Obj(container[Service1], container[Service2], container[Service3], container[Service4])"
   ]
  },
  {
   "cell_type": "code",
   "execution_count": 8,
   "metadata": {
    "scrolled": true
   },
   "outputs": [
    {
     "name": "stdout",
     "output_type": "stream",
     "text": [
      "2.05 µs ± 48.6 ns per loop (mean ± std. dev. of 7 runs, 100000 loops each)\n"
     ]
    }
   ],
   "source": [
    "class ObjInjected:\n",
    "    s1: Service1\n",
    "    s2: Service2\n",
    "    s3: Service3\n",
    "    s4: Service4\n",
    "        \n",
    "    @antidote.inject\n",
    "    def __init__(self, s1: Service1, s2: Service2, s3: Service3, s4: Service4):\n",
    "        self.s1 = s1\n",
    "        self.s2 = s2\n",
    "        self.s3 = s3\n",
    "        self.s4 = s4\n",
    "\n",
    "%timeit ObjInjected()"
   ]
  },
  {
   "cell_type": "code",
   "execution_count": 9,
   "metadata": {
    "scrolled": true
   },
   "outputs": [
    {
     "name": "stdout",
     "output_type": "stream",
     "text": [
      "1.46 µs ± 7.75 ns per loop (mean ± std. dev. of 7 runs, 1000000 loops each)\n"
     ]
    }
   ],
   "source": [
    "@attr.s\n",
    "class ObjAttrs:\n",
    "    s1: Service1 = antidote.attrib()\n",
    "    s2: Service2 = antidote.attrib()\n",
    "    s3: Service3 = antidote.attrib()\n",
    "    s4: Service4 = antidote.attrib()\n",
    "        \n",
    "%timeit ObjAttrs()"
   ]
  }
 ],
 "metadata": {
  "kernelspec": {
   "display_name": "Python [default]",
   "language": "python",
   "name": "python3"
  },
  "language_info": {
   "codemirror_mode": {
    "name": "ipython",
    "version": 3
   },
   "file_extension": ".py",
   "mimetype": "text/x-python",
   "name": "python",
   "nbconvert_exporter": "python",
   "pygments_lexer": "ipython3",
   "version": "3.6.3"
  }
 },
 "nbformat": 4,
 "nbformat_minor": 2
}
