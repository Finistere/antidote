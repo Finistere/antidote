{
 "cells": [
  {
   "cell_type": "markdown",
   "metadata": {
    "pycharm": {}
   },
   "source": [
    "## Injection benchmark\n",
    "\n",
    "### Setup"
   ]
  },
  {
   "cell_type": "code",
   "execution_count": 1,
   "metadata": {},
   "outputs": [
    {
     "name": "stdout",
     "output_type": "stream",
     "text": [
      "Antidote: 0.7.4.dev4+g5ddfb12.d20200822 \n",
      "Python 3.8.5 (default, Aug 21 2020, 11:31:30) \n",
      "[GCC 9.3.0]\n"
     ]
    }
   ],
   "source": [
    "import sys\n",
    "from antidote import __version__, is_compiled\n",
    "print(f\"Antidote: {__version__()} {'(cython)' if is_compiled() else ''}\")\n",
    "print(f\"Python {sys.version}\")"
   ]
  },
  {
   "cell_type": "code",
   "execution_count": 2,
   "metadata": {
    "pycharm": {
     "is_executing": true
    },
    "scrolled": true
   },
   "outputs": [],
   "source": [
    "from antidote import world, Service, inject\n",
    "\n",
    "class Service1(Service):\n",
    "    pass\n",
    "\n",
    "\n",
    "class Service2(Service):\n",
    "    def __init__(self, service1: Service1):\n",
    "        self.service1 = service1\n",
    "\n",
    "\n",
    "class Service3(Service):\n",
    "    __antidote__ = Service.Conf(singleton=False)\n",
    "    def __init__(self, service1: Service1, service2: Service2):\n",
    "        self.service1 = service1\n",
    "        self.service2 = service2\n",
    "\n",
    "\n",
    "class Service4(Service):\n",
    "    def __init__(self, service1: Service1, service2: Service2, service3: Service3):\n",
    "        self.service1 = service1\n",
    "        self.service2 = service2\n",
    "        self.service3 = service3"
   ]
  },
  {
   "cell_type": "code",
   "execution_count": 3,
   "metadata": {},
   "outputs": [
    {
     "name": "stdout",
     "output_type": "stream",
     "text": [
      "Service4 \n",
      "\n",
      "* = not a singleton\n"
     ]
    }
   ],
   "source": [
    "from antidote._internal.wrapper import get_wrapper_dependencies\n",
    "from antidote._inten\n",
    "from collections import deque\n",
    "import textwrap\n",
    "\n",
    "def debug_get_injected_dependencies(func):\n",
    "    try:\n",
    "        return get_wrapper_dependencies(func)\n",
    "    except TypeError:\n",
    "        return []\n",
    "    \n",
    "class Node:\n",
    "    \n",
    "    \n",
    "def tree_debug_info(dependency,\n",
    "                    depth: int,\n",
    "                    helper_txt: bool) -> str:\n",
    "    from antidote._internal.state import get_container\n",
    "    container = get_container()\n",
    "    providers = container.providers\n",
    "    nodes: List[Tuple[int, int, DependencyDebug, bool]] = []\n",
    "    q = deque([(0, 0, dependency, True)])\n",
    "\n",
    "    while q:\n",
    "        mask, level, dep, last = q.pop()\n",
    "        for p in providers:\n",
    "            debug = p.maybe_debug(dep)\n",
    "            if debug is not None:\n",
    "                nodes.append((mask, level, debug, last))\n",
    "                children_mask = mask | (1 << level if not last else 0)\n",
    "                if level < depth:\n",
    "                    for i, child in enumerate(debug.dependencies[::-1]):\n",
    "                        q.append((children_mask, level + 1, child, i == 0))\n",
    "                    for \n",
    "\n",
    "    info_tree = []\n",
    "    for mask, level, debug, last in nodes:\n",
    "        if level == 0:\n",
    "            info_tree.append((\"\" if debug.singleton else \"* \")\n",
    "                             + textwrap.dedent(debug.info))\n",
    "        else:\n",
    "            first_line, *rest = textwrap.dedent(debug.info).split(\"\\n\", 1)\n",
    "            txt = (\"└─\" if last else \"├─\") \\\n",
    "                  + (\"─ \" if debug.singleton else \"* \") \\\n",
    "                  + first_line\n",
    "            if rest:\n",
    "                txt += \"\\n\" + textwrap.indent(rest, \"    \" if last else \"│   \")\n",
    "\n",
    "            indent = \"\".join(\n",
    "                (\"│   \" if ((1 << i) & mask == (1 << i)) else \"    \")\n",
    "                for i in range(1, level)\n",
    "            )\n",
    "            info_tree.append(textwrap.indent(txt, indent))\n",
    "\n",
    "    if helper_txt:\n",
    "        info_tree.append(\"\\n* = not a singleton\")\n",
    "    return \"\\n\".join(info_tree)\n",
    "\n",
    "print(tree_debug_info(Service4, depth=10, helper_txt=True))"
   ]
  },
  {
   "cell_type": "markdown",
   "metadata": {
    "pycharm": {}
   },
   "source": [
    "### Results\n",
    "The key take away from those benchmarks, is to avoid using injection on short functions which are called repeatedly, in a loop typically. In the most common use case of dependency injection, service instantiation, the overhead should be negligible.\n",
    "\n",
    "It should be noted that in most cases the worst scenario is used, as functions do nothing. In the real world, pure python functions are a lot slower. So to put the following results into perspective, here is the time needed to decode this simple JSON."
   ]
  },
  {
   "cell_type": "code",
   "execution_count": 2,
   "metadata": {},
   "outputs": [
    {
     "name": "stdout",
     "output_type": "stream",
     "text": [
      "2.45 µs ± 50.7 ns per loop (mean ± std. dev. of 7 runs, 100000 loops each)\n"
     ]
    }
   ],
   "source": [
    "import json\n",
    "%timeit json.loads('{ \"name\":\"John\", \"age\":30, \"city\":\"New York\"}')"
   ]
  },
  {
   "cell_type": "code",
   "execution_count": 4,
   "metadata": {},
   "outputs": [
    {
     "name": "stdout",
     "output_type": "stream",
     "text": [
      "* Service3 \n",
      "├── Service1 \n",
      "└── Service2 \n",
      "    └── Service1 \n",
      "\n",
      "* = not a singleton\n"
     ]
    }
   ],
   "source": [
    "print(world.debug.info(Service3, recursive=True))"
   ]
  },
  {
   "cell_type": "markdown",
   "metadata": {
    "pycharm": {}
   },
   "source": [
    "### Function call\n",
    "\n",
    "Injection overhead is here measured with a function which does nothing."
   ]
  },
  {
   "cell_type": "code",
   "execution_count": 4,
   "metadata": {
    "pycharm": {
     "is_executing": true
    },
    "scrolled": true
   },
   "outputs": [],
   "source": [
    "def f(s1: Service1, s2: Service2, s3: Service3, s4: Service4):\n",
    "    return s1, s2, s3, s4"
   ]
  },
  {
   "cell_type": "markdown",
   "metadata": {
    "pycharm": {}
   },
   "source": [
    "Time necessary to only execute the function, without retrieving the services"
   ]
  },
  {
   "cell_type": "code",
   "execution_count": 5,
   "metadata": {
    "pycharm": {
     "is_executing": true
    }
   },
   "outputs": [],
   "source": [
    "args = (world.get(Service1), world.get(Service2), world.get(Service3), world.get(Service4))\n",
    "# %timeit f(*args)"
   ]
  },
  {
   "cell_type": "markdown",
   "metadata": {
    "pycharm": {}
   },
   "source": [
    "Overhead of the injection when all argument must be retrieved from the container."
   ]
  },
  {
   "cell_type": "code",
   "execution_count": 9,
   "metadata": {
    "pycharm": {
     "is_executing": true
    },
    "scrolled": true
   },
   "outputs": [
    {
     "name": "stdout",
     "output_type": "stream",
     "text": [
      "450 ns ± 9.55 ns per loop (mean ± std. dev. of 7 runs, 1000000 loops each)\n"
     ]
    }
   ],
   "source": [
    "f_injected = inject(f)\n",
    "assert f(*args) == f_injected()\n",
    "%timeit f_injected()"
   ]
  },
  {
   "cell_type": "markdown",
   "metadata": {
    "pycharm": {}
   },
   "source": [
    "Overhead of the injection when no argument has to be retrieved."
   ]
  },
  {
   "cell_type": "code",
   "execution_count": 8,
   "metadata": {
    "pycharm": {
     "is_executing": true
    }
   },
   "outputs": [
    {
     "name": "stdout",
     "output_type": "stream",
     "text": [
      "183 ns ± 8.1 ns per loop (mean ± std. dev. of 7 runs, 10000000 loops each)\n"
     ]
    }
   ],
   "source": [
    "assert f(*args) == f_injected(*args)\n",
    "%timeit f_injected(*args)"
   ]
  },
  {
   "cell_type": "markdown",
   "metadata": {},
   "source": [
    "### Method call"
   ]
  },
  {
   "cell_type": "code",
   "execution_count": 9,
   "metadata": {},
   "outputs": [],
   "source": [
    "class Dummy:\n",
    "    @inject\n",
    "    def f(self, s1: Service1, s2: Service2, s3: Service3, s4: Service4):\n",
    "        return s1, s2, s3, s4"
   ]
  },
  {
   "cell_type": "code",
   "execution_count": 10,
   "metadata": {},
   "outputs": [
    {
     "name": "stdout",
     "output_type": "stream",
     "text": [
      "426 ns ± 3.76 ns per loop (mean ± std. dev. of 7 runs, 1000000 loops each)\n"
     ]
    }
   ],
   "source": [
    "%timeit Dummy().f(*args)"
   ]
  },
  {
   "cell_type": "code",
   "execution_count": 11,
   "metadata": {},
   "outputs": [
    {
     "name": "stdout",
     "output_type": "stream",
     "text": [
      "611 ns ± 2.86 ns per loop (mean ± std. dev. of 7 runs, 1000000 loops each)\n"
     ]
    }
   ],
   "source": [
    "d = Dummy()\n",
    "assert d.f(*args) == d.f()\n",
    "%timeit d.f()"
   ]
  },
  {
   "cell_type": "markdown",
   "metadata": {},
   "source": [
    "### Non singleton"
   ]
  },
  {
   "cell_type": "code",
   "execution_count": 11,
   "metadata": {},
   "outputs": [],
   "source": [
    "class ServiceX(Service):\n",
    "    __antidote__ = Service.Conf(singleton=False)"
   ]
  },
  {
   "cell_type": "code",
   "execution_count": 12,
   "metadata": {},
   "outputs": [
    {
     "name": "stdout",
     "output_type": "stream",
     "text": [
      "489 ns ± 4.3 ns per loop (mean ± std. dev. of 7 runs, 1000000 loops each)\n"
     ]
    }
   ],
   "source": [
    "%timeit world.get(ServiceX)"
   ]
  },
  {
   "cell_type": "markdown",
   "metadata": {},
   "source": [
    "### Factory"
   ]
  },
  {
   "cell_type": "code",
   "execution_count": 13,
   "metadata": {},
   "outputs": [],
   "source": [
    "from antidote import factory\n",
    "\n",
    "class ServiceF:\n",
    "    pass\n",
    "\n",
    "@factory(singleton=False)\n",
    "def f() -> ServiceF:\n",
    "    return ServiceF()"
   ]
  },
  {
   "cell_type": "code",
   "execution_count": 14,
   "metadata": {},
   "outputs": [
    {
     "name": "stdout",
     "output_type": "stream",
     "text": [
      "333 ns ± 11.8 ns per loop (mean ± std. dev. of 7 runs, 1000000 loops each)\n"
     ]
    }
   ],
   "source": [
    "%timeit f()"
   ]
  },
  {
   "cell_type": "code",
   "execution_count": 15,
   "metadata": {},
   "outputs": [
    {
     "name": "stdout",
     "output_type": "stream",
     "text": [
      "604 ns ± 33.8 ns per loop (mean ± std. dev. of 7 runs, 1000000 loops each)\n"
     ]
    }
   ],
   "source": [
    "fid = ServiceF @ f  # This is relatively slow 1-2us\n",
    "%timeit world.get(fid)"
   ]
  },
  {
   "cell_type": "markdown",
   "metadata": {},
   "source": [
    "### Custom Provider"
   ]
  },
  {
   "cell_type": "code",
   "execution_count": 16,
   "metadata": {},
   "outputs": [],
   "source": [
    "from antidote import world\n",
    "from antidote.core import Provider, DependencyInstance\n",
    "dep = object()\n",
    "dep2 = object()\n",
    "\n",
    "@world.provider\n",
    "class SlowProvider(Provider):\n",
    "    def provide(self, dependency, container):\n",
    "        if dep2 is dependency:\n",
    "            return DependencyInstance(\"sleepy\")\n",
    "            \n",
    "\n",
    "@world.provider\n",
    "class CustomProvider(Provider):\n",
    "    def provide(self, dependency, container):\n",
    "        if dependency is dep:\n",
    "            return DependencyInstance(\"yeah\")\n"
   ]
  },
  {
   "cell_type": "code",
   "execution_count": 17,
   "metadata": {},
   "outputs": [
    {
     "name": "stdout",
     "output_type": "stream",
     "text": [
      "640 ns ± 11.5 ns per loop (mean ± std. dev. of 7 runs, 1000000 loops each)\n"
     ]
    }
   ],
   "source": [
    "%timeit world.get(dep)"
   ]
  },
  {
   "cell_type": "markdown",
   "metadata": {
    "pycharm": {}
   },
   "source": [
    "### Object instantiation"
   ]
  },
  {
   "cell_type": "code",
   "execution_count": 12,
   "metadata": {
    "pycharm": {
     "is_executing": true
    },
    "scrolled": true
   },
   "outputs": [
    {
     "name": "stdout",
     "output_type": "stream",
     "text": [
      "437 ns ± 12.1 ns per loop (mean ± std. dev. of 7 runs, 1000000 loops each)\n"
     ]
    }
   ],
   "source": [
    "class Obj:\n",
    "    def __init__(self, s1: Service1, s2: Service2, s3: Service3, s4: Service4):\n",
    "        self.s1 = s1\n",
    "        self.s2 = s2\n",
    "        self.s3 = s3\n",
    "        self.s4 = s4\n",
    "\n",
    "%timeit Obj(*args)"
   ]
  },
  {
   "cell_type": "code",
   "execution_count": 14,
   "metadata": {
    "pycharm": {
     "is_executing": true
    },
    "scrolled": true
   },
   "outputs": [
    {
     "name": "stdout",
     "output_type": "stream",
     "text": [
      "954 ns ± 8.43 ns per loop (mean ± std. dev. of 7 runs, 1000000 loops each)\n"
     ]
    }
   ],
   "source": [
    "class ObjInjected:\n",
    "    @inject\n",
    "    def __init__(self, s1: Service1, s2: Service2, s3: Service3, s4: Service4):\n",
    "        self.s1 = s1\n",
    "        self.s2 = s2\n",
    "        self.s3 = s3\n",
    "        self.s4 = s4\n",
    "\n",
    "%timeit ObjInjected()"
   ]
  },
  {
   "cell_type": "markdown",
   "metadata": {
    "pycharm": {
     "metadata": false,
     "name": "#%% md\n"
    }
   },
   "source": [
    "### Configuration\n"
   ]
  },
  {
   "cell_type": "code",
   "execution_count": null,
   "metadata": {
    "pycharm": {
     "is_executing": true,
     "metadata": false,
     "name": "#%%\n"
    }
   },
   "outputs": [],
   "source": [
    "from antidote import LazyConstants\n",
    "\n",
    "class Conf(LazyConstants):\n",
    "    A = 'A'\n",
    "    B = 'B'\n",
    "\n",
    "    def get(self, key):\n",
    "        return key"
   ]
  },
  {
   "cell_type": "code",
   "execution_count": null,
   "metadata": {
    "pycharm": {
     "is_executing": true,
     "metadata": false,
     "name": "#%%\n"
    }
   },
   "outputs": [],
   "source": [
    "def g(a, b):\n",
    "    return a, b\n",
    "\n",
    "%timeit g('A', 'B')"
   ]
  },
  {
   "cell_type": "code",
   "execution_count": null,
   "metadata": {
    "pycharm": {
     "is_executing": true,
     "metadata": false,
     "name": "#%%\n"
    }
   },
   "outputs": [],
   "source": [
    "conf = Conf()\n",
    "%timeit g(conf.get('A'), conf.get('B'))"
   ]
  },
  {
   "cell_type": "code",
   "execution_count": null,
   "metadata": {
    "pycharm": {
     "is_executing": true,
     "metadata": false,
     "name": "#%%\n"
    }
   },
   "outputs": [],
   "source": [
    "assert (conf.A, conf.B) == (conf.get('A'), conf.get('B'))\n",
    "%timeit g(conf.A, conf.B)"
   ]
  },
  {
   "cell_type": "code",
   "execution_count": null,
   "metadata": {
    "pycharm": {
     "is_executing": true,
     "metadata": false,
     "name": "#%%\n"
    }
   },
   "outputs": [],
   "source": [
    "g_injected = inject(g, dependencies=(Conf.A, Conf.B))\n",
    "\n",
    "assert g(conf.get('A'), conf.get('B')) == g_injected()\n",
    "assert g(conf.A, conf.B) == g_injected()\n",
    "\n",
    "%timeit g_injected()"
   ]
  },
  {
   "cell_type": "code",
   "execution_count": null,
   "metadata": {
    "pycharm": {
     "is_executing": true
    }
   },
   "outputs": [],
   "source": []
  },
  {
   "cell_type": "code",
   "execution_count": null,
   "metadata": {},
   "outputs": [],
   "source": []
  },
  {
   "cell_type": "code",
   "execution_count": null,
   "metadata": {},
   "outputs": [],
   "source": []
  }
 ],
 "metadata": {
  "kernelspec": {
   "display_name": "antidote",
   "language": "python",
   "name": "antidote"
  },
  "language_info": {
   "codemirror_mode": {
    "name": "ipython",
    "version": 3
   },
   "file_extension": ".py",
   "mimetype": "text/x-python",
   "name": "python",
   "nbconvert_exporter": "python",
   "pygments_lexer": "ipython3",
   "version": "3.8.5"
  }
 },
 "nbformat": 4,
 "nbformat_minor": 2
}
