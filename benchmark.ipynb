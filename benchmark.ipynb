{
 "cells": [
  {
   "cell_type": "markdown",
   "metadata": {
    "pycharm": {}
   },
   "source": [
    "## Injection benchmark\n",
    "\n",
    "### Setup\n",
    "\n",
    "An i7 7700K were used for the timings."
   ]
  },
  {
   "cell_type": "code",
   "execution_count": 1,
   "metadata": {
    "pycharm": {}
   },
   "outputs": [
    {
     "name": "stdout",
     "output_type": "stream",
     "text": [
      "Antidote: 0.5.1 (cython)\n",
      "Python 3.7.2 (default, Dec 29 2018, 19:09:49) \n",
      "[GCC 7.3.0]\n"
     ]
    }
   ],
   "source": [
    "import sys\n",
    "from antidote import __version__, is_compiled\n",
    "print(f\"Antidote: {__version__()} {'(cython)' if is_compiled() else ''}\")\n",
    "print(f\"Python {sys.version}\")"
   ]
  },
  {
   "cell_type": "markdown",
   "metadata": {
    "pycharm": {}
   },
   "source": [
    "### Results\n",
    "The key take away from those benchmarks, is to avoid using injection on short functions which are called repeatedly, in a loop typically. In the most common use case of dependency injection, service instantiation, the overhead should be negligible.\n",
    "\n",
    "It should be noted that in most cases the worst scenario is used, as functions do nothing. In the real world, pure python functions are a lot slower. So to put the following results into perspective, here is the time needed to decode this simple JSON."
   ]
  },
  {
   "cell_type": "code",
   "execution_count": 2,
   "metadata": {
    "pycharm": {}
   },
   "outputs": [
    {
     "name": "stdout",
     "output_type": "stream",
     "text": [
      "4.36 µs ± 98.2 ns per loop (mean ± std. dev. of 7 runs, 100000 loops each)\n"
     ]
    }
   ],
   "source": [
    "import json\n",
    "%timeit json.loads('{ \"name\":\"John\", \"age\":30, \"city\":\"New York\"}')"
   ]
  },
  {
   "cell_type": "code",
   "execution_count": 3,
   "metadata": {
    "pycharm": {},
    "scrolled": true
   },
   "outputs": [],
   "source": [
    "from antidote import world, register, inject\n",
    "\n",
    "@register\n",
    "class Service1:\n",
    "    pass\n",
    "\n",
    "\n",
    "@register\n",
    "class Service2:\n",
    "    def __init__(self, service1: Service1):\n",
    "        self.service1 = service1\n",
    "\n",
    "\n",
    "@register\n",
    "class Service3:\n",
    "    def __init__(self, service1: Service1, service2: Service2):\n",
    "        self.service1 = service1\n",
    "        self.service2 = service2\n",
    "\n",
    "  \n",
    "@register\n",
    "class Service4:\n",
    "    def __init__(self, service1: Service1, service2: Service2, service3: Service3):\n",
    "        self.service1 = service1\n",
    "        self.service2 = service2\n",
    "        self.service3 = service3\n"
   ]
  },
  {
   "cell_type": "markdown",
   "metadata": {
    "pycharm": {}
   },
   "source": [
    "### Function call\n",
    "\n",
    "Injection overhead is here measured with a function which does nothing."
   ]
  },
  {
   "cell_type": "code",
   "execution_count": 4,
   "metadata": {
    "pycharm": {},
    "scrolled": true
   },
   "outputs": [],
   "source": [
    "def f(s1: Service1, s2: Service2, s3: Service3, s4: Service4):\n",
    "    return s1, s2, s3, s4"
   ]
  },
  {
   "cell_type": "markdown",
   "metadata": {
    "pycharm": {}
   },
   "source": [
    "Time necessary to only execute the function, without retrieving the services"
   ]
  },
  {
   "cell_type": "code",
   "execution_count": 5,
   "metadata": {
    "pycharm": {}
   },
   "outputs": [
    {
     "name": "stdout",
     "output_type": "stream",
     "text": [
      "240 ns ± 0.867 ns per loop (mean ± std. dev. of 7 runs, 1000000 loops each)\n"
     ]
    }
   ],
   "source": [
    "args = (world.get(Service1), world.get(Service2), world.get(Service3), world.get(Service4))\n",
    "%timeit f(*args)"
   ]
  },
  {
   "cell_type": "markdown",
   "metadata": {
    "pycharm": {}
   },
   "source": [
    "Overhead of the injection when all argument must be retrieved from the container."
   ]
  },
  {
   "cell_type": "code",
   "execution_count": 6,
   "metadata": {
    "pycharm": {},
    "scrolled": true
   },
   "outputs": [
    {
     "name": "stdout",
     "output_type": "stream",
     "text": [
      "829 ns ± 3.75 ns per loop (mean ± std. dev. of 7 runs, 1000000 loops each)\n"
     ]
    }
   ],
   "source": [
    "f_injected = inject(f)\n",
    "assert f(*args) == f_injected()\n",
    "%timeit f_injected()"
   ]
  },
  {
   "cell_type": "markdown",
   "metadata": {
    "pycharm": {}
   },
   "source": [
    "Overhead of the injection when no argument has to be retrieved."
   ]
  },
  {
   "cell_type": "code",
   "execution_count": 7,
   "metadata": {
    "pycharm": {}
   },
   "outputs": [
    {
     "name": "stdout",
     "output_type": "stream",
     "text": [
      "332 ns ± 2.41 ns per loop (mean ± std. dev. of 7 runs, 1000000 loops each)\n"
     ]
    }
   ],
   "source": [
    "assert f(*args) == f_injected(*args)\n",
    "%timeit f_injected(*args)"
   ]
  },
  {
   "cell_type": "markdown",
   "metadata": {
    "pycharm": {}
   },
   "source": [
    "### Object instantiation"
   ]
  },
  {
   "cell_type": "code",
   "execution_count": 8,
   "metadata": {
    "pycharm": {},
    "scrolled": true
   },
   "outputs": [
    {
     "name": "stdout",
     "output_type": "stream",
     "text": [
      "691 ns ± 6.04 ns per loop (mean ± std. dev. of 7 runs, 1000000 loops each)\n"
     ]
    }
   ],
   "source": [
    "class Obj:\n",
    "    def __init__(self, s1: Service1, s2: Service2, s3: Service3, s4: Service4):\n",
    "        self.s1 = s1\n",
    "        self.s2 = s2\n",
    "        self.s3 = s3\n",
    "        self.s4 = s4\n",
    "\n",
    "%timeit Obj(*args)"
   ]
  },
  {
   "cell_type": "code",
   "execution_count": 9,
   "metadata": {
    "pycharm": {},
    "scrolled": true
   },
   "outputs": [
    {
     "name": "stdout",
     "output_type": "stream",
     "text": [
      "1.81 µs ± 4.66 ns per loop (mean ± std. dev. of 7 runs, 1000000 loops each)\n"
     ]
    }
   ],
   "source": [
    "@register\n",
    "class ObjInjected:\n",
    "    def __init__(self, s1: Service1, s2: Service2, s3: Service3, s4: Service4):\n",
    "        self.s1 = s1\n",
    "        self.s2 = s2\n",
    "        self.s3 = s3\n",
    "        self.s4 = s4\n",
    "\n",
    "%timeit ObjInjected()"
   ]
  },
  {
   "cell_type": "markdown",
   "metadata": {
    "pycharm": {
     "metadata": false,
     "name": "#%% md\n"
    }
   },
   "source": [
    "### Configuration\n"
   ]
  },
  {
   "cell_type": "code",
   "execution_count": 10,
   "metadata": {
    "pycharm": {
     "is_executing": false,
     "metadata": false,
     "name": "#%%\n"
    }
   },
   "outputs": [],
   "source": [
    "from antidote import LazyConfigurationMeta\n",
    "\n",
    "class Conf(metaclass=LazyConfigurationMeta):\n",
    "    A = 'A'\n",
    "    B = 'B'\n",
    "\n",
    "    def __call__(self, key):\n",
    "        return key"
   ]
  },
  {
   "cell_type": "code",
   "execution_count": 11,
   "metadata": {
    "pycharm": {
     "metadata": false,
     "name": "#%%\n"
    }
   },
   "outputs": [
    {
     "name": "stdout",
     "output_type": "stream",
     "text": [
      "206 ns ± 0.301 ns per loop (mean ± std. dev. of 7 runs, 1000000 loops each)\n"
     ]
    }
   ],
   "source": [
    "def g(a, b):\n",
    "    return a, b\n",
    "\n",
    "%timeit g('A', 'B')"
   ]
  },
  {
   "cell_type": "code",
   "execution_count": 12,
   "metadata": {
    "pycharm": {
     "metadata": false,
     "name": "#%%\n"
    }
   },
   "outputs": [
    {
     "name": "stdout",
     "output_type": "stream",
     "text": [
      "573 ns ± 3.33 ns per loop (mean ± std. dev. of 7 runs, 1000000 loops each)\n"
     ]
    }
   ],
   "source": [
    "conf = Conf()\n",
    "%timeit g(conf('A'), conf('B'))"
   ]
  },
  {
   "cell_type": "code",
   "execution_count": 13,
   "metadata": {
    "pycharm": {
     "metadata": false,
     "name": "#%%\n"
    }
   },
   "outputs": [
    {
     "name": "stdout",
     "output_type": "stream",
     "text": [
      "595 ns ± 2.73 ns per loop (mean ± std. dev. of 7 runs, 1000000 loops each)\n"
     ]
    }
   ],
   "source": [
    "g_injected = inject(g, dependencies=(Conf.A, Conf.B))\n",
    "\n",
    "assert g(conf('A'), conf('B')) == g_injected()\n",
    "assert g(conf.A, conf.B) == g_injected()\n",
    "\n",
    "%timeit g_injected()"
   ]
  }
 ],
 "metadata": {
  "kernelspec": {
   "display_name": "antidote",
   "language": "python",
   "name": "antidote"
  },
  "language_info": {
   "codemirror_mode": {
    "name": "ipython",
    "version": 3
   },
   "file_extension": ".py",
   "mimetype": "text/x-python",
   "name": "python",
   "nbconvert_exporter": "python",
   "pygments_lexer": "ipython3",
   "version": "3.7.2"
  }
 },
 "nbformat": 4,
 "nbformat_minor": 2
}
