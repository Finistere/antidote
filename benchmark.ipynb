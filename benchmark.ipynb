{
 "cells": [
  {
   "cell_type": "markdown",
   "metadata": {
    "pycharm": {}
   },
   "source": [
    "## Injection benchmark\n",
    "\n",
    "### Setup"
   ]
  },
  {
   "cell_type": "code",
   "execution_count": 1,
   "metadata": {},
   "outputs": [
    {
     "name": "stdout",
     "output_type": "stream",
     "text": [
      "\n",
      "== Python ==\n",
      "3.10.4 (main, Mar 23 2022, 20:25:24) [GCC 11.3.0]\n",
      "\n",
      "== Antidote ==\n",
      "2.0.0b0 \n",
      "\n"
     ]
    }
   ],
   "source": [
    "import sys\n",
    "import subprocess\n",
    "from antidote import __version__, is_compiled\n",
    "print(f\"\"\"\n",
    "== Python ==\n",
    "{sys.version}\n",
    "\n",
    "== Antidote ==\n",
    "{__version__} {'(cython)' if is_compiled() else ''}\n",
    "\"\"\")"
   ]
  },
  {
   "cell_type": "code",
   "execution_count": 2,
   "metadata": {},
   "outputs": [
    {
     "name": "stdout",
     "output_type": "stream",
     "text": [
      "model name\t: AMD Ryzen 7 PRO 4750U with Radeon Graphics\n"
     ]
    }
   ],
   "source": [
    "cat /proc/cpuinfo | grep 'model name' | head -n 1"
   ]
  },
  {
   "cell_type": "markdown",
   "metadata": {
    "pycharm": {}
   },
   "source": [
    "### Results\n",
    "The key take away from those benchmarks, is to avoid using injection on short functions which are called repeatedly, in a loop typically. In the most common use case of dependency injection, service instantiation, the overhead should be negligible.\n",
    "\n",
    "It should be noted that in most cases the worst scenario is used, as those functions do nothing. In the real world, pure python functions are a lot slower. So to put the following results into perspective, here is the time needed to decode this simple JSON."
   ]
  },
  {
   "cell_type": "code",
   "execution_count": 3,
   "metadata": {},
   "outputs": [
    {
     "name": "stdout",
     "output_type": "stream",
     "text": [
      "2.57 µs ± 153 ns per loop (mean ± std. dev. of 7 runs, 100,000 loops each)\n"
     ]
    }
   ],
   "source": [
    "import json\n",
    "# Rough point of comparison\n",
    "%timeit json.loads('{\"name\":\"John\",\"age\":30,\"city\":\"New York\"}')"
   ]
  },
  {
   "cell_type": "markdown",
   "metadata": {},
   "source": [
    "### Function call\n",
    "\n",
    "Injection overhead is here measured with a function which does nothing."
   ]
  },
  {
   "cell_type": "code",
   "execution_count": 4,
   "metadata": {},
   "outputs": [
    {
     "ename": "ImportError",
     "evalue": "cannot import name 'Service' from 'antidote' (/home/brabier/code/github/antidote/src/antidote/__init__.py)",
     "output_type": "error",
     "traceback": [
      "\u001b[1;31m---------------------------------------------------------------------------\u001b[0m",
      "\u001b[1;31mImportError\u001b[0m                               Traceback (most recent call last)",
      "Input \u001b[1;32mIn [4]\u001b[0m, in \u001b[0;36m<cell line: 1>\u001b[1;34m()\u001b[0m\n\u001b[1;32m----> 1\u001b[0m \u001b[38;5;28;01mfrom\u001b[39;00m \u001b[38;5;21;01mantidote\u001b[39;00m \u001b[38;5;28;01mimport\u001b[39;00m world, Service, inject, Provide\n\u001b[0;32m      3\u001b[0m \u001b[38;5;28;01mclass\u001b[39;00m \u001b[38;5;21;01mService1\u001b[39;00m(Service):\n\u001b[0;32m      4\u001b[0m     \u001b[38;5;28;01mpass\u001b[39;00m\n",
      "\u001b[1;31mImportError\u001b[0m: cannot import name 'Service' from 'antidote' (/home/brabier/code/github/antidote/src/antidote/__init__.py)"
     ]
    }
   ],
   "source": [
    "from antidote import world, Service, inject, Provide\n",
    "\n",
    "class Service1(Service):\n",
    "    pass\n",
    "\n",
    "def f(s1: Service1):\n",
    "    return s1\n",
    "\n",
    "@inject\n",
    "def injected_f(s1: Provide[Service1]):\n",
    "    return s1"
   ]
  },
  {
   "cell_type": "code",
   "execution_count": null,
   "metadata": {},
   "outputs": [],
   "source": [
    "# Reference\n",
    "s1 = world.get[Service1]() # singleton by default\n",
    "%timeit f(s1)"
   ]
  },
  {
   "cell_type": "code",
   "execution_count": null,
   "metadata": {},
   "outputs": [],
   "source": [
    "# With injection\n",
    "assert injected_f() == f(s1)\n",
    "%timeit injected_f()"
   ]
  },
  {
   "cell_type": "code",
   "execution_count": null,
   "metadata": {},
   "outputs": [],
   "source": [
    "# With injection when no arguments must be provided\n",
    "assert injected_f(s1) == f(s1)\n",
    "%timeit injected_f(s1)"
   ]
  },
  {
   "cell_type": "markdown",
   "metadata": {
    "pycharm": {}
   },
   "source": [
    "### Function call with multiple injections"
   ]
  },
  {
   "cell_type": "code",
   "execution_count": null,
   "metadata": {
    "pycharm": {
     "is_executing": true
    },
    "scrolled": true
   },
   "outputs": [],
   "source": [
    "from antidote import Provide\n",
    "\n",
    "class Service2(Service):\n",
    "    pass\n",
    "\n",
    "class Service3(Service):\n",
    "    pass\n",
    "\n",
    "class Service4(Service):\n",
    "    pass\n",
    "\n",
    "def f_multi(s1: Service1, s2: Service2, s3: Service3, s4: Service4):\n",
    "    return s1, s2, s3, s4\n",
    "\n",
    "@inject\n",
    "def injected_f_multi(s1: Provide[Service1],\n",
    "                     s2: Provide[Service2],\n",
    "                     s3: Provide[Service3],\n",
    "                     s4: Provide[Service4]):\n",
    "    return s1, s2, s3, s4"
   ]
  },
  {
   "cell_type": "code",
   "execution_count": null,
   "metadata": {
    "pycharm": {
     "is_executing": true
    }
   },
   "outputs": [],
   "source": [
    "# Reference\n",
    "args = (world.get(Service1), world.get(Service2), world.get(Service3), world.get(Service4))\n",
    "%timeit f_multi(*args)"
   ]
  },
  {
   "cell_type": "code",
   "execution_count": null,
   "metadata": {
    "pycharm": {
     "is_executing": true
    },
    "scrolled": true
   },
   "outputs": [],
   "source": [
    "# With injection\n",
    "assert injected_f_multi() == f_multi(*args)\n",
    "%timeit injected_f_multi()"
   ]
  },
  {
   "cell_type": "code",
   "execution_count": null,
   "metadata": {
    "pycharm": {
     "is_executing": true
    }
   },
   "outputs": [],
   "source": [
    "# With injection when no arguments must be provided\n",
    "assert injected_f_multi(*args) == f_multi(*args)\n",
    "%timeit injected_f_multi(*args)"
   ]
  },
  {
   "cell_type": "markdown",
   "metadata": {},
   "source": [
    "### Method call\n",
    "Overhead when applied on a method"
   ]
  },
  {
   "cell_type": "code",
   "execution_count": null,
   "metadata": {},
   "outputs": [],
   "source": [
    "class Dummy:\n",
    "    def method(self, s1: Service1):\n",
    "        return s1\n",
    "    \n",
    "    def method_multi(self, s1: Service1, s2: Service2, s3: Service3, s4: Service4):\n",
    "        return s1, s2, s3, s4\n",
    "    \n",
    "    @inject\n",
    "    def injected_method(self, s1: Provide[Service1]):\n",
    "        return s1\n",
    "    \n",
    "    @inject\n",
    "    def injected_method_multi(self, \n",
    "                s1: Provide[Service1],\n",
    "                s2: Provide[Service2],\n",
    "                s3: Provide[Service3],\n",
    "                s4: Provide[Service4]):\n",
    "        return s1, s2, s3, s4\n",
    "\n",
    "dummy = Dummy()"
   ]
  },
  {
   "cell_type": "code",
   "execution_count": null,
   "metadata": {},
   "outputs": [],
   "source": [
    "# Reference\n",
    "%timeit dummy.method(s1)"
   ]
  },
  {
   "cell_type": "code",
   "execution_count": null,
   "metadata": {},
   "outputs": [],
   "source": [
    "# With injection\n",
    "assert dummy.injected_method() == dummy.method(s1)\n",
    "%timeit dummy.injected_method()"
   ]
  },
  {
   "cell_type": "code",
   "execution_count": null,
   "metadata": {},
   "outputs": [],
   "source": [
    "# With injection when no arguments must be provided\n",
    "assert dummy.injected_method(s1) == dummy.method(s1)\n",
    "%timeit dummy.injected_method(s1)"
   ]
  },
  {
   "cell_type": "markdown",
   "metadata": {},
   "source": [
    "### Method call with multiple injections"
   ]
  },
  {
   "cell_type": "code",
   "execution_count": null,
   "metadata": {},
   "outputs": [],
   "source": [
    "class Dummy2:\n",
    "    def method_multi(self, s1: Service1, s2: Service2, s3: Service3, s4: Service4):\n",
    "        return s1, s2, s3, s4\n",
    "    \n",
    "    @inject\n",
    "    def injected_method_multi(self, \n",
    "                s1: Provide[Service1],\n",
    "                s2: Provide[Service2],\n",
    "                s3: Provide[Service3],\n",
    "                s4: Provide[Service4]):\n",
    "        return s1, s2, s3, s4\n",
    "\n",
    "dummy2 = Dummy2()"
   ]
  },
  {
   "cell_type": "code",
   "execution_count": null,
   "metadata": {},
   "outputs": [],
   "source": [
    "# Reference\n",
    "%timeit dummy2.method_multi(*args)"
   ]
  },
  {
   "cell_type": "code",
   "execution_count": null,
   "metadata": {},
   "outputs": [],
   "source": [
    "# With injection\n",
    "assert dummy2.injected_method_multi() == dummy2.method_multi(*args)\n",
    "%timeit dummy2.injected_method_multi()"
   ]
  },
  {
   "cell_type": "code",
   "execution_count": null,
   "metadata": {},
   "outputs": [],
   "source": [
    "# With injection when no arguments must be provided\n",
    "assert dummy2.injected_method_multi(*args) == dummy2.method_multi(*args)\n",
    "%timeit dummy2.injected_method_multi(*args)"
   ]
  },
  {
   "cell_type": "markdown",
   "metadata": {},
   "source": [
    "### Non singleton\n",
    "\n",
    "We compare the overhead of creating the whole service each time."
   ]
  },
  {
   "cell_type": "code",
   "execution_count": null,
   "metadata": {},
   "outputs": [],
   "source": [
    "class ServiceX(Service):\n",
    "    __antidote__ = Service.Conf(singleton=False)\n",
    "\n",
    "def g(s: ServiceX):\n",
    "    return s\n",
    "\n",
    "@inject\n",
    "def injected_g(s: Provide[ServiceX]):\n",
    "    return s"
   ]
  },
  {
   "cell_type": "code",
   "execution_count": null,
   "metadata": {},
   "outputs": [],
   "source": [
    "# Reference\n",
    "%timeit g(ServiceX())"
   ]
  },
  {
   "cell_type": "code",
   "execution_count": null,
   "metadata": {},
   "outputs": [],
   "source": [
    "# With injection\n",
    "assert isinstance(injected_g(), ServiceX)\n",
    "assert injected_g() is not injected_g()\n",
    "%timeit injected_g()"
   ]
  },
  {
   "cell_type": "code",
   "execution_count": null,
   "metadata": {},
   "outputs": [],
   "source": [
    "# With injection when no arguments must be provided\n",
    "%timeit injected_g(ServiceX())"
   ]
  },
  {
   "cell_type": "markdown",
   "metadata": {
    "pycharm": {}
   },
   "source": [
    "### Object instantiation\n",
    "Cost of creating wired objects"
   ]
  },
  {
   "cell_type": "code",
   "execution_count": null,
   "metadata": {
    "pycharm": {
     "is_executing": true
    },
    "scrolled": true
   },
   "outputs": [],
   "source": [
    "class Obj:\n",
    "    def __init__(self, s1: Service1, s2: Service2, s3: Service3, s4: Service4):\n",
    "        self.s1 = s1\n",
    "        self.s2 = s2\n",
    "        self.s3 = s3\n",
    "        self.s4 = s4\n",
    "        \n",
    "class InjectedObj:\n",
    "    @inject\n",
    "    def __init__(self,\n",
    "                 s1: Provide[Service1],\n",
    "                 s2: Provide[Service2],\n",
    "                 s3: Provide[Service3],\n",
    "                 s4: Provide[Service4]):\n",
    "        self.s1 = s1\n",
    "        self.s2 = s2\n",
    "        self.s3 = s3\n",
    "        self.s4 = s4\n",
    "    "
   ]
  },
  {
   "cell_type": "code",
   "execution_count": null,
   "metadata": {},
   "outputs": [],
   "source": [
    "# Reference\n",
    "%timeit Obj(*args)"
   ]
  },
  {
   "cell_type": "code",
   "execution_count": null,
   "metadata": {
    "pycharm": {
     "is_executing": true
    },
    "scrolled": true
   },
   "outputs": [],
   "source": [
    "# With injection\n",
    "%timeit InjectedObj()"
   ]
  },
  {
   "cell_type": "code",
   "execution_count": null,
   "metadata": {
    "pycharm": {
     "is_executing": true
    },
    "scrolled": true
   },
   "outputs": [],
   "source": [
    "# With injection when no arguments must be provided\n",
    "%timeit InjectedObj(*args)"
   ]
  },
  {
   "cell_type": "markdown",
   "metadata": {},
   "source": [
    "### Factory"
   ]
  },
  {
   "cell_type": "code",
   "execution_count": null,
   "metadata": {},
   "outputs": [],
   "source": [
    "from typing import Annotated\n",
    "from antidote import factory, From\n",
    "\n",
    "class ServiceF:\n",
    "    pass\n",
    "\n",
    "@factory(singleton=False)\n",
    "def service_factory() -> ServiceF:\n",
    "    return ServiceF()\n",
    "\n",
    "def h(s):\n",
    "    return s\n",
    "\n",
    "@inject\n",
    "def injected_h(s: Annotated[ServiceF, From(service_factory)]):\n",
    "    return s"
   ]
  },
  {
   "cell_type": "code",
   "execution_count": null,
   "metadata": {},
   "outputs": [],
   "source": [
    "# Reference\n",
    "%timeit h(service_factory())"
   ]
  },
  {
   "cell_type": "code",
   "execution_count": null,
   "metadata": {},
   "outputs": [],
   "source": [
    "# With injection\n",
    "assert isinstance(injected_h(), ServiceF)\n",
    "assert injected_h() is not injected_h()\n",
    "%timeit injected_h()"
   ]
  },
  {
   "cell_type": "code",
   "execution_count": null,
   "metadata": {},
   "outputs": [],
   "source": [
    "# With injection when no arguments must be provided\n",
    "%timeit injected_h(service_factory())"
   ]
  },
  {
   "cell_type": "markdown",
   "metadata": {
    "pycharm": {
     "metadata": false,
     "name": "#%% md\n"
    }
   },
   "source": [
    "### Configuration\n"
   ]
  },
  {
   "cell_type": "code",
   "execution_count": null,
   "metadata": {
    "pycharm": {
     "is_executing": true,
     "metadata": false,
     "name": "#%%\n"
    }
   },
   "outputs": [],
   "source": [
    "from antidote import Constants, const\n",
    "\n",
    "class Conf(Constants):\n",
    "    A = const('A')\n",
    "    B = const('B')\n",
    "\n",
    "    def get(self, key):\n",
    "        return key\n",
    "    \n",
    "def use_config(a, b):\n",
    "    return a, b\n",
    "\n",
    "@inject(dependencies=(Conf.A, Conf.B))\n",
    "def injected_use_config(a, b):\n",
    "    return a, b"
   ]
  },
  {
   "cell_type": "code",
   "execution_count": null,
   "metadata": {
    "pycharm": {
     "is_executing": true,
     "metadata": false,
     "name": "#%%\n"
    }
   },
   "outputs": [],
   "source": [
    "# Reference\n",
    "conf = Conf()\n",
    "%timeit use_config(conf.get('A'), conf.get('B'))"
   ]
  },
  {
   "cell_type": "code",
   "execution_count": null,
   "metadata": {
    "pycharm": {
     "is_executing": true,
     "metadata": false,
     "name": "#%%\n"
    }
   },
   "outputs": [],
   "source": [
    "# With injection\n",
    "assert injected_use_config() == use_config(conf.get('A'), conf.get('B'))\n",
    "%timeit injected_use_config()"
   ]
  },
  {
   "cell_type": "code",
   "execution_count": null,
   "metadata": {
    "pycharm": {
     "is_executing": true,
     "metadata": false,
     "name": "#%%\n"
    }
   },
   "outputs": [],
   "source": [
    "# With injection when no arguments must be provided\n",
    "%timeit injected_use_config(conf.get('A'), conf.get('B'))"
   ]
  },
  {
   "cell_type": "markdown",
   "metadata": {},
   "source": [
    "### Custom Provider"
   ]
  },
  {
   "cell_type": "code",
   "execution_count": null,
   "metadata": {},
   "outputs": [],
   "source": [
    "import time\n",
    "from antidote import world, inject\n",
    "from antidote.core import Provider, DependencyValue\n",
    "dep = object()\n",
    "slow = object()\n",
    "\n",
    "@world.provider\n",
    "class SlowProvider(Provider):\n",
    "    def exists(self, dependency):\n",
    "        return dependency is slow\n",
    "    \n",
    "    def provide(self, dependency, container):\n",
    "        time.sleep(.01)\n",
    "        return DependencyValue(\"sleepy\")\n",
    "            \n",
    "\n",
    "@world.provider\n",
    "class CustomProvider(Provider):\n",
    "    def exists(self, dependency):\n",
    "        return dependency is dep\n",
    "    \n",
    "    def provide(self, dependency, container):\n",
    "        return DependencyValue(\"Found it !\")\n",
    "\n",
    "\n",
    "@inject(dependencies=dict(d=dep))\n",
    "def f_custom(d):\n",
    "    return d"
   ]
  },
  {
   "cell_type": "code",
   "execution_count": null,
   "metadata": {},
   "outputs": [],
   "source": [
    "assert f_custom() == \"Found it !\"\n",
    "%timeit f_custom()"
   ]
  },
  {
   "cell_type": "code",
   "execution_count": null,
   "metadata": {},
   "outputs": [],
   "source": []
  }
 ],
 "metadata": {
  "kernelspec": {
   "display_name": "Python 3 (ipykernel)",
   "language": "python",
   "name": "python3"
  },
  "language_info": {
   "codemirror_mode": {
    "name": "ipython",
    "version": 3
   },
   "file_extension": ".py",
   "mimetype": "text/x-python",
   "name": "python",
   "nbconvert_exporter": "python",
   "pygments_lexer": "ipython3",
   "version": "3.10.4"
  }
 },
 "nbformat": 4,
 "nbformat_minor": 4
}
