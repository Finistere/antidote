{
 "cells": [
  {
   "cell_type": "markdown",
   "id": "gorgeous-authentication",
   "metadata": {},
   "source": [
    "# Test benchmark\n",
    "\n",
    "## Setup"
   ]
  },
  {
   "cell_type": "code",
   "execution_count": 1,
   "id": "negative-daily",
   "metadata": {},
   "outputs": [
    {
     "name": "stdout",
     "output_type": "stream",
     "text": [
      "\n",
      "== Python ==\n",
      "3.9.1 (default, Dec  7 2020, 22:33:43) \n",
      "[GCC 9.3.0]\n",
      "\n",
      "== Antidote =\n",
      "0.12.1 (cython)\n",
      "\n"
     ]
    }
   ],
   "source": [
    "import sys\n",
    "import subprocess\n",
    "from antidote import __version__, is_compiled\n",
    "print(f\"\"\"\n",
    "== Python ==\n",
    "{sys.version}\n",
    "\n",
    "== Antidote =\n",
    "{__version__} {'(cython)' if is_compiled() else ''}\n",
    "\"\"\")"
   ]
  },
  {
   "cell_type": "code",
   "execution_count": 9,
   "id": "combined-option",
   "metadata": {},
   "outputs": [
    {
     "name": "stdout",
     "output_type": "stream",
     "text": [
      "model name\t: Intel(R) Core(TM) i7-10510U CPU @ 1.80GHz\n"
     ]
    }
   ],
   "source": [
    "cat /proc/cpuinfo | grep 'model name' | head -n 1"
   ]
  },
  {
   "cell_type": "markdown",
   "id": "skilled-center",
   "metadata": {},
   "source": [
    "### Imitating a really big project\n",
    "\n",
    "Creating 4000 different dependencies, all singletons, in all the different ways that actually impact test utilities."
   ]
  },
  {
   "cell_type": "code",
   "execution_count": 2,
   "id": "empirical-possibility",
   "metadata": {},
   "outputs": [],
   "source": [
    "from antidote import factory, Service, implementation, Factory\n",
    "\n",
    "n = 1000\n",
    "\n",
    "services = [\n",
    "    type(f\"Service{i}\", (Service,), {})\n",
    "    for i in range(n)\n",
    "]\n",
    "\n",
    "def make_factory(Output):\n",
    "    @factory\n",
    "    def f() -> Output:\n",
    "        return Output()\n",
    "    \n",
    "    return f\n",
    "\n",
    "factories = dict()\n",
    "for i in range(n):\n",
    "    Output = type(f\"Ouput{i}\", (object,), {})\n",
    "    factories[Output] = make_factory(Output)\n",
    "\n",
    "def make_implementation(Interface, Impl):\n",
    "    @implementation(Interface)\n",
    "    def f():\n",
    "        return Impl\n",
    "    \n",
    "    return f\n",
    "\n",
    "def make_factory_method(Output):\n",
    "    def f(self) -> Output:\n",
    "        return Output()\n",
    "    \n",
    "    return f\n",
    "\n",
    "factories = dict()\n",
    "for i in range(n, 2 * n):\n",
    "    Output = type(f\"Ouput{i}\", (object,), {})\n",
    "    factories[Output] = type(f\"Factory{i}\", (Factory,), {\"__call__\": make_factory_method(Output)})\n",
    "\n",
    "    \n",
    "implementations = dict()\n",
    "for i in range(n):\n",
    "    Interface = type(f\"Interface{i}\", (object,), {})\n",
    "    Impl = type(f\"Impl{i}\", (Interface, Service), {})\n",
    "    implementations[Interface] = make_implementation(Interface, Impl)\n",
    "\n",
    "# Instantiating all dependencies\n",
    "from antidote import world\n",
    "\n",
    "for service in services:\n",
    "    world.get(service)\n",
    "\n",
    "for output, factory in factories.items():\n",
    "    world.get(output @ factory)\n",
    "    \n",
    "for interface, impl in implementations.items():\n",
    "    world.get(interface @ impl)"
   ]
  },
  {
   "cell_type": "markdown",
   "id": "steady-rescue",
   "metadata": {},
   "source": [
    "## Benchmarks"
   ]
  },
  {
   "cell_type": "code",
   "execution_count": 3,
   "id": "local-supervision",
   "metadata": {},
   "outputs": [
    {
     "name": "stdout",
     "output_type": "stream",
     "text": [
      "8.59 µs ± 546 ns per loop (mean ± std. dev. of 7 runs, 100000 loops each)\n"
     ]
    }
   ],
   "source": [
    "def bench_empty():\n",
    "    with world.test.empty():\n",
    "        pass\n",
    "    \n",
    "%timeit bench_empty()"
   ]
  },
  {
   "cell_type": "code",
   "execution_count": 4,
   "id": "painful-blanket",
   "metadata": {},
   "outputs": [
    {
     "name": "stdout",
     "output_type": "stream",
     "text": [
      "29.4 µs ± 1.53 µs per loop (mean ± std. dev. of 7 runs, 10000 loops each)\n"
     ]
    }
   ],
   "source": [
    "def bench_new():\n",
    "    with world.test.new():\n",
    "        pass\n",
    "    \n",
    "%timeit bench_new()"
   ]
  },
  {
   "cell_type": "code",
   "execution_count": 5,
   "id": "alternate-recipient",
   "metadata": {},
   "outputs": [
    {
     "name": "stdout",
     "output_type": "stream",
     "text": [
      "70.6 µs ± 3.17 µs per loop (mean ± std. dev. of 7 runs, 10000 loops each)\n"
     ]
    }
   ],
   "source": [
    "def bench_clone():\n",
    "    with world.test.clone():\n",
    "        pass\n",
    "    \n",
    "%timeit bench_clone()"
   ]
  },
  {
   "cell_type": "code",
   "execution_count": 6,
   "id": "pharmaceutical-vacuum",
   "metadata": {},
   "outputs": [
    {
     "name": "stdout",
     "output_type": "stream",
     "text": [
      "123 µs ± 2.98 µs per loop (mean ± std. dev. of 7 runs, 10000 loops each)\n"
     ]
    }
   ],
   "source": [
    "def bench_clone_keeping_singletons():\n",
    "    with world.test.clone(keep_singletons=True):\n",
    "        pass\n",
    "    \n",
    "%timeit bench_clone_keeping_singletons()"
   ]
  },
  {
   "cell_type": "code",
   "execution_count": 7,
   "id": "automotive-contest",
   "metadata": {},
   "outputs": [
    {
     "name": "stdout",
     "output_type": "stream",
     "text": [
      "1.81 µs ± 20 ns per loop (mean ± std. dev. of 7 runs, 1000000 loops each)\n"
     ]
    }
   ],
   "source": [
    "x = object()\n",
    "with world.test.clone():\n",
    "    %timeit world.test.override.singleton(services[0], x)"
   ]
  },
  {
   "cell_type": "code",
   "execution_count": 8,
   "id": "weighted-rover",
   "metadata": {},
   "outputs": [
    {
     "name": "stdout",
     "output_type": "stream",
     "text": [
      "2.66 µs ± 33.8 ns per loop (mean ± std. dev. of 7 runs, 100000 loops each)\n"
     ]
    }
   ],
   "source": [
    "x = object()\n",
    "\n",
    "def static():\n",
    "    return x\n",
    "\n",
    "with world.test.clone():\n",
    "    %timeit world.test.override.factory(services[0])(static)"
   ]
  },
  {
   "cell_type": "code",
   "execution_count": null,
   "id": "plastic-graduation",
   "metadata": {},
   "outputs": [],
   "source": []
  }
 ],
 "metadata": {
  "kernelspec": {
   "display_name": "Python 3",
   "language": "python",
   "name": "python3"
  },
  "language_info": {
   "codemirror_mode": {
    "name": "ipython",
    "version": 3
   },
   "file_extension": ".py",
   "mimetype": "text/x-python",
   "name": "python",
   "nbconvert_exporter": "python",
   "pygments_lexer": "ipython3",
   "version": "3.9.1"
  }
 },
 "nbformat": 4,
 "nbformat_minor": 5
}
