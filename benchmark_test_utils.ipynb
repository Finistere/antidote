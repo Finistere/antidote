{
 "cells": [
  {
   "cell_type": "markdown",
   "id": "gorgeous-authentication",
   "metadata": {},
   "source": [
    "# Test benchmark\n",
    "\n",
    "## Setup"
   ]
  },
  {
   "cell_type": "code",
   "execution_count": 1,
   "id": "negative-daily",
   "metadata": {},
   "outputs": [
    {
     "name": "stdout",
     "output_type": "stream",
     "text": [
      "\n",
      "== Python ==\n",
      "3.9.2 (default, Feb 19 2021, 13:34:46) \n",
      "[GCC 9.3.0]\n",
      "\n",
      "== Antidote =\n",
      "1.0.0 (cython)\n",
      "\n"
     ]
    }
   ],
   "source": [
    "import sys\n",
    "import subprocess\n",
    "from antidote import __version__, is_compiled\n",
    "print(f\"\"\"\n",
    "== Python ==\n",
    "{sys.version}\n",
    "\n",
    "== Antidote =\n",
    "{__version__} {'(cython)' if is_compiled() else ''}\n",
    "\"\"\")"
   ]
  },
  {
   "cell_type": "code",
   "execution_count": 2,
   "id": "combined-option",
   "metadata": {},
   "outputs": [
    {
     "name": "stdout",
     "output_type": "stream",
     "text": [
      "model name\t: AMD Ryzen 7 PRO 4750U with Radeon Graphics\n"
     ]
    }
   ],
   "source": [
    "cat /proc/cpuinfo | grep 'model name' | head -n 1"
   ]
  },
  {
   "cell_type": "markdown",
   "id": "38daac01-d68c-488e-a1be-f855cd98169e",
   "metadata": {},
   "source": [
    "## Benchmarks\n",
    "\n",
    "### Utilities"
   ]
  },
  {
   "cell_type": "code",
   "execution_count": 3,
   "id": "c1d1e998-39dd-42c8-a773-dd7c4d762809",
   "metadata": {},
   "outputs": [],
   "source": [
    "from antidote import factory, Service, implementation, Factory, world\n",
    "\n",
    "\n",
    "class DependencyGenerator:\n",
    "    services = []\n",
    "    factories = dict()\n",
    "    implementations = dict()\n",
    "\n",
    "    @staticmethod\n",
    "    def make_factory(Output):\n",
    "        @factory\n",
    "        def f() -> Output:\n",
    "            return Output()\n",
    "\n",
    "        return f\n",
    "\n",
    "    @staticmethod\n",
    "    def make_implementation(Interface, Impl):\n",
    "        @implementation(Interface)\n",
    "        def f():\n",
    "            return Impl\n",
    "\n",
    "        return f\n",
    "\n",
    "    @staticmethod\n",
    "    def make_factory_method(Output):\n",
    "        def f(self) -> Output:\n",
    "            return Output()\n",
    "\n",
    "        return f\n",
    "    \n",
    "    @classmethod\n",
    "    def add_service(cls, i: int):\n",
    "        cls.services.append(type(f\"Service{i}\", (Service,), {}))\n",
    "    \n",
    "    @classmethod\n",
    "    def add_factory(cls, i: int):\n",
    "        Output = type(f\"Ouput{i}\", (object,), {})\n",
    "        cls.factories[Output] = cls.make_factory(Output)\n",
    "\n",
    "    @classmethod\n",
    "    def add_factory_class(cls, i: int):\n",
    "        Output = type(f\"Ouput{i}\", (object,), {})\n",
    "        cls.factories[Output] = type(f\"Factory{i}\", (Factory,), {\"__call__\":  cls.make_factory_method(Output)})\n",
    "        \n",
    "    @classmethod\n",
    "    def add_implementation(cls, i: int):\n",
    "        Interface = type(f\"Interface{i}\", (object,), {})\n",
    "        Impl = type(f\"Impl{i}\", (Interface, Service), {})\n",
    "        cls.implementations[Interface] =  cls.make_implementation(Interface, Impl)\n",
    "        \n",
    "    @classmethod\n",
    "    def generate_dependencies(cls, n: int):\n",
    "        k = n // 4\n",
    "        for i in range(k):\n",
    "            cls.add_service(i)\n",
    "            cls.add_factory(i + 1)\n",
    "            cls.add_factory_class(i + 2)\n",
    "            cls.add_implementation(i + 3)\n",
    "            \n",
    "        # Instantiating all dependencies\n",
    "\n",
    "        for service in cls.services:\n",
    "            world.get(service)\n",
    "\n",
    "        for output, factory in cls.factories.items():\n",
    "            world.get(output @ factory)\n",
    "\n",
    "        for interface, impl in cls.implementations.items():\n",
    "            world.get(interface @ impl)\n",
    "    \n",
    "class Benchmark:\n",
    "    @staticmethod\n",
    "    def empty():\n",
    "        with world.test.empty():\n",
    "            pass\n",
    "\n",
    "    @staticmethod\n",
    "    def new():\n",
    "        with world.test.new():\n",
    "            pass\n",
    "\n",
    "    @staticmethod\n",
    "    def clone():\n",
    "        with world.test.clone():\n",
    "            pass\n",
    "\n",
    "    @staticmethod\n",
    "    def clone_keeping_singletons():\n",
    "        with world.test.clone(keep_singletons=True):\n",
    "            pass\n",
    "    \n",
    "    @staticmethod\n",
    "    def run():\n",
    "        print(\"world.test.empty()\")\n",
    "        f = Benchmark.empty\n",
    "        %timeit f()\n",
    "        print(\"\\nworld.test.new()\")\n",
    "        f = Benchmark.new\n",
    "        %timeit f()\n",
    "        print(\"\\nworld.test.clone()\")\n",
    "        f = Benchmark.clone\n",
    "        %timeit f()\n",
    "        print(\"\\nworld.test.clone(keep_singletons=True)\")\n",
    "        f = Benchmark.clone_keeping_singletons\n",
    "        %timeit f()\n",
    "        \n",
    "    "
   ]
  },
  {
   "cell_type": "markdown",
   "id": "skilled-center",
   "metadata": {},
   "source": [
    "### Isolation\n",
    "#### Imitating a medium project\n",
    "\n",
    "Creating **40** different dependencies, all singletons, in all the different ways that actually impact test utilities."
   ]
  },
  {
   "cell_type": "code",
   "execution_count": 4,
   "id": "3b8ad023-b6c1-47cd-a48a-76d25d94d563",
   "metadata": {},
   "outputs": [],
   "source": [
    "DependencyGenerator.generate_dependencies(n = 40)"
   ]
  },
  {
   "cell_type": "code",
   "execution_count": 5,
   "id": "aa7b2a38-9b78-4d4f-9f59-5176caafcff6",
   "metadata": {},
   "outputs": [
    {
     "name": "stdout",
     "output_type": "stream",
     "text": [
      "world.test.empty()\n",
      "11 µs ± 214 ns per loop (mean ± std. dev. of 7 runs, 100000 loops each)\n",
      "\n",
      "world.test.new()\n",
      "37.2 µs ± 336 ns per loop (mean ± std. dev. of 7 runs, 10000 loops each)\n",
      "\n",
      "world.test.clone()\n",
      "12.4 µs ± 202 ns per loop (mean ± std. dev. of 7 runs, 100000 loops each)\n",
      "\n",
      "world.test.clone(keep_singletons=True)\n",
      "12.9 µs ± 199 ns per loop (mean ± std. dev. of 7 runs, 100000 loops each)\n"
     ]
    }
   ],
   "source": [
    "Benchmark.run()"
   ]
  },
  {
   "cell_type": "markdown",
   "id": "7fdb2b40-ae0f-43a0-9f38-0842cb6c6cfd",
   "metadata": {},
   "source": [
    "#### Imitating a big project\n",
    "\n",
    "Creating **400** different dependencies, all singletons, in all the different ways that actually impact test utilities."
   ]
  },
  {
   "cell_type": "code",
   "execution_count": 6,
   "id": "7c0e4af3-1ab8-4db1-a2f3-bfe2c3f4e3d5",
   "metadata": {},
   "outputs": [],
   "source": [
    "DependencyGenerator.generate_dependencies(n = 360)"
   ]
  },
  {
   "cell_type": "code",
   "execution_count": 7,
   "id": "8e15a2e7-66ce-41ba-8002-4f137e2988f0",
   "metadata": {},
   "outputs": [
    {
     "name": "stdout",
     "output_type": "stream",
     "text": [
      "world.test.empty()\n",
      "11 µs ± 118 ns per loop (mean ± std. dev. of 7 runs, 100000 loops each)\n",
      "\n",
      "world.test.new()\n",
      "36.7 µs ± 463 ns per loop (mean ± std. dev. of 7 runs, 10000 loops each)\n",
      "\n",
      "world.test.clone()\n",
      "16 µs ± 202 ns per loop (mean ± std. dev. of 7 runs, 100000 loops each)\n",
      "\n",
      "world.test.clone(keep_singletons=True)\n",
      "19.8 µs ± 955 ns per loop (mean ± std. dev. of 7 runs, 100000 loops each)\n"
     ]
    }
   ],
   "source": [
    "Benchmark.run()"
   ]
  },
  {
   "cell_type": "markdown",
   "id": "2f1335cc-3e3a-4105-86c0-0236bba1f96a",
   "metadata": {},
   "source": [
    "#### Imitating a REALLY big project\n",
    "\n",
    "Creating **4000** different dependencies, all singletons, in all the different ways that actually impact test utilities."
   ]
  },
  {
   "cell_type": "code",
   "execution_count": 8,
   "id": "9be11a37-7254-4439-bf36-23481a001b44",
   "metadata": {},
   "outputs": [],
   "source": [
    "DependencyGenerator.generate_dependencies(n = 3600)"
   ]
  },
  {
   "cell_type": "code",
   "execution_count": 9,
   "id": "6895d583-0761-4f59-8498-3980f1827286",
   "metadata": {},
   "outputs": [
    {
     "name": "stdout",
     "output_type": "stream",
     "text": [
      "world.test.empty()\n",
      "10.8 µs ± 100 ns per loop (mean ± std. dev. of 7 runs, 100000 loops each)\n",
      "\n",
      "world.test.new()\n",
      "36.2 µs ± 342 ns per loop (mean ± std. dev. of 7 runs, 10000 loops each)\n",
      "\n",
      "world.test.clone()\n",
      "68.8 µs ± 1.29 µs per loop (mean ± std. dev. of 7 runs, 10000 loops each)\n",
      "\n",
      "world.test.clone(keep_singletons=True)\n",
      "144 µs ± 19 µs per loop (mean ± std. dev. of 7 runs, 10000 loops each)\n"
     ]
    }
   ],
   "source": [
    "Benchmark.run()"
   ]
  },
  {
   "cell_type": "markdown",
   "id": "741f85c7-187f-4b7c-9638-ce4f58b2fe95",
   "metadata": {},
   "source": [
    "### Override"
   ]
  },
  {
   "cell_type": "code",
   "execution_count": 10,
   "id": "automotive-contest",
   "metadata": {},
   "outputs": [
    {
     "name": "stdout",
     "output_type": "stream",
     "text": [
      "2.61 µs ± 13.7 ns per loop (mean ± std. dev. of 7 runs, 100000 loops each)\n"
     ]
    }
   ],
   "source": [
    "x = object()\n",
    "with world.test.clone():\n",
    "    %timeit world.test.override.singleton(DependencyGenerator.services[0], x)"
   ]
  },
  {
   "cell_type": "code",
   "execution_count": 11,
   "id": "weighted-rover",
   "metadata": {},
   "outputs": [
    {
     "name": "stdout",
     "output_type": "stream",
     "text": [
      "3.6 µs ± 31 ns per loop (mean ± std. dev. of 7 runs, 100000 loops each)\n"
     ]
    }
   ],
   "source": [
    "x = object()\n",
    "\n",
    "def static():\n",
    "    return x\n",
    "\n",
    "with world.test.clone():\n",
    "    %timeit world.test.override.factory(DependencyGenerator.services[0])(static)"
   ]
  }
 ],
 "metadata": {
  "kernelspec": {
   "display_name": "Python 3",
   "language": "python",
   "name": "python3"
  },
  "language_info": {
   "codemirror_mode": {
    "name": "ipython",
    "version": 3
   },
   "file_extension": ".py",
   "mimetype": "text/x-python",
   "name": "python",
   "nbconvert_exporter": "python",
   "pygments_lexer": "ipython3",
   "version": "3.9.2"
  }
 },
 "nbformat": 4,
 "nbformat_minor": 5
}
