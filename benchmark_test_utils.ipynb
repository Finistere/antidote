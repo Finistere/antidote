{
 "cells": [
  {
   "cell_type": "markdown",
   "id": "gorgeous-authentication",
   "metadata": {},
   "source": [
    "# Test benchmark\n",
    "\n",
    "## Setup"
   ]
  },
  {
   "cell_type": "code",
   "execution_count": 3,
   "id": "negative-daily",
   "metadata": {},
   "outputs": [
    {
     "name": "stdout",
     "output_type": "stream",
     "text": [
      "\n",
      "== Python ==\n",
      "3.10.4 (main, Mar 23 2022, 20:25:24) [GCC 11.3.0]\n",
      "\n",
      "== Antidote =\n",
      "2.0.0b1.dev3+g442bca8.d19800101 \n",
      "\n"
     ]
    }
   ],
   "source": [
    "import sys\n",
    "import subprocess\n",
    "from antidote import __version__, is_compiled\n",
    "print(f\"\"\"\n",
    "== Python ==\n",
    "{sys.version}\n",
    "\n",
    "== Antidote =\n",
    "{__version__} {'(cython)' if is_compiled() else ''}\n",
    "\"\"\")"
   ]
  },
  {
   "cell_type": "code",
   "execution_count": 4,
   "id": "combined-option",
   "metadata": {},
   "outputs": [
    {
     "name": "stdout",
     "output_type": "stream",
     "text": [
      "model name\t: AMD Ryzen 7 PRO 4750U with Radeon Graphics\r\n"
     ]
    }
   ],
   "source": [
    "cat /proc/cpuinfo | grep 'model name' | head -n 1"
   ]
  },
  {
   "cell_type": "markdown",
   "id": "38daac01-d68c-488e-a1be-f855cd98169e",
   "metadata": {},
   "source": [
    "## Benchmarks\n",
    "\n",
    "### Utilities"
   ]
  },
  {
   "cell_type": "code",
   "execution_count": 5,
   "outputs": [],
   "source": [
    "from antidote import world, interface, implements, lazy, injectable, const\n",
    "\n",
    "services = []\n",
    "lazies = []\n",
    "interfaces = []\n",
    "constants = []\n",
    "\n",
    "def add_service(i: int):\n",
    "    services.append(injectable(type(f\"Service{i}\", (object,), {})))\n",
    "\n",
    "def add_lazy(i: int):\n",
    "    Output = type(f\"Ouput{i}\", (object,), {})\n",
    "    def f() -> Output:\n",
    "        return Output()\n",
    "    lazies.append(lazy.value(f))\n",
    "\n",
    "def add_const(i: int):\n",
    "    constants.append(const(i))\n",
    "\n",
    "def add_implementation(i: int):\n",
    "    Interface = interface(type(f\"Interface{i}\", (object,), {}))\n",
    "    implements(Interface)(type(f\"Impl{i}\", (Interface,), {}))\n",
    "    interfaces.append(Interface)\n",
    "\n",
    "def generate_dependencies(n: int):\n",
    "    k = n // 4\n",
    "    for i in range(k):\n",
    "        add_service(i)\n",
    "        add_lazy(i + 1)\n",
    "        add_const(i + 2)\n",
    "        add_implementation(i + 3)\n",
    "\n",
    "    # Instantiating all dependencies\n",
    "\n",
    "    for dep in services:\n",
    "        world[dep]\n",
    "\n",
    "    for dep in lazies:\n",
    "        world[dep]\n",
    "\n",
    "    for dep in interfaces:\n",
    "        world[dep]\n",
    "\n",
    "    for dep in constants:\n",
    "        world[dep]\n",
    "\n",
    "\n",
    "def ref():\n",
    "    pass\n",
    "\n",
    "def empty():\n",
    "    with world.test.empty():\n",
    "        pass\n",
    "\n",
    "def new():\n",
    "    with world.test.new():\n",
    "        pass\n",
    "\n",
    "def clone():\n",
    "    with world.test.clone():\n",
    "        pass\n",
    "\n",
    "def copy():\n",
    "    with world.test.copy():\n",
    "        pass\n",
    "\n",
    "def benchmark():\n",
    "    print(\"Reference (nothing)\")\n",
    "    %timeit ref()\n",
    "    print(\"\\nworld.test.empty()\")\n",
    "    %timeit empty()\n",
    "    print(\"\\nworld.test.new()\")\n",
    "    %timeit new()\n",
    "    print(\"\\nworld.test.clone()\")\n",
    "    %timeit clone()\n",
    "    print(\"\\nworld.test.copy()\")\n",
    "    %timeit copy()\n",
    "\n"
   ],
   "metadata": {
    "collapsed": false,
    "pycharm": {
     "name": "#%%\n"
    }
   }
  },
  {
   "cell_type": "markdown",
   "source": [
    "### Isolation\n",
    "#### Imitating a medium project\n",
    "\n",
    "Creating **40** different dependencies, all singletons, in all the different ways that actually impact test utilities."
   ],
   "metadata": {
    "collapsed": false,
    "pycharm": {
     "name": "#%% md\n"
    }
   }
  },
  {
   "cell_type": "code",
   "execution_count": 8,
   "id": "3b8ad023-b6c1-47cd-a48a-76d25d94d563",
   "metadata": {
    "pycharm": {
     "name": "#%%\n"
    }
   },
   "outputs": [],
   "source": [
    "generate_dependencies(n = 40)"
   ]
  },
  {
   "cell_type": "code",
   "execution_count": 9,
   "id": "aa7b2a38-9b78-4d4f-9f59-5176caafcff6",
   "metadata": {
    "pycharm": {
     "name": "#%%\n"
    }
   },
   "outputs": [
    {
     "name": "stdout",
     "output_type": "stream",
     "text": [
      "Reference (nothing)\n",
      "66.7 ns ± 7.52 ns per loop (mean ± std. dev. of 7 runs, 10,000,000 loops each)\n",
      "world.test.empty()\n",
      "40.8 µs ± 327 ns per loop (mean ± std. dev. of 7 runs, 10,000 loops each)\n",
      "\n",
      "world.test.new()\n",
      "161 µs ± 531 ns per loop (mean ± std. dev. of 7 runs, 10,000 loops each)\n",
      "\n",
      "world.test.clone()\n",
      "90.9 µs ± 302 ns per loop (mean ± std. dev. of 7 runs, 10,000 loops each)\n",
      "\n",
      "world.test.copy()\n",
      "94.7 µs ± 1.18 µs per loop (mean ± std. dev. of 7 runs, 10,000 loops each)\n"
     ]
    }
   ],
   "source": [
    "benchmark()"
   ]
  },
  {
   "cell_type": "markdown",
   "id": "7fdb2b40-ae0f-43a0-9f38-0842cb6c6cfd",
   "metadata": {},
   "source": [
    "#### Imitating a big project\n",
    "\n",
    "Creating **400** different dependencies, all singletons, in all the different ways that actually impact test utilities."
   ]
  },
  {
   "cell_type": "code",
   "execution_count": 10,
   "id": "7c0e4af3-1ab8-4db1-a2f3-bfe2c3f4e3d5",
   "metadata": {
    "pycharm": {
     "name": "#%%\n"
    }
   },
   "outputs": [],
   "source": [
    "generate_dependencies(n = 360)"
   ]
  },
  {
   "cell_type": "code",
   "execution_count": 11,
   "id": "8e15a2e7-66ce-41ba-8002-4f137e2988f0",
   "metadata": {
    "pycharm": {
     "name": "#%%\n"
    }
   },
   "outputs": [
    {
     "name": "stdout",
     "output_type": "stream",
     "text": [
      "Reference (nothing)\n",
      "72.8 ns ± 11.6 ns per loop (mean ± std. dev. of 7 runs, 10,000,000 loops each)\n",
      "world.test.empty()\n",
      "40.8 µs ± 771 ns per loop (mean ± std. dev. of 7 runs, 10,000 loops each)\n",
      "\n",
      "world.test.new()\n",
      "161 µs ± 973 ns per loop (mean ± std. dev. of 7 runs, 10,000 loops each)\n",
      "\n",
      "world.test.clone()\n",
      "235 µs ± 1.52 µs per loop (mean ± std. dev. of 7 runs, 1,000 loops each)\n",
      "\n",
      "world.test.copy()\n",
      "257 µs ± 662 ns per loop (mean ± std. dev. of 7 runs, 1,000 loops each)\n"
     ]
    }
   ],
   "source": [
    "benchmark()"
   ]
  },
  {
   "cell_type": "markdown",
   "id": "2f1335cc-3e3a-4105-86c0-0236bba1f96a",
   "metadata": {},
   "source": [
    "#### Imitating a REALLY big project\n",
    "\n",
    "Creating **4000** different dependencies, all singletons, in all the different ways that actually impact test utilities."
   ]
  },
  {
   "cell_type": "code",
   "execution_count": 12,
   "id": "9be11a37-7254-4439-bf36-23481a001b44",
   "metadata": {
    "pycharm": {
     "name": "#%%\n"
    }
   },
   "outputs": [],
   "source": [
    "generate_dependencies(n = 3600)"
   ]
  },
  {
   "cell_type": "code",
   "execution_count": 13,
   "id": "6895d583-0761-4f59-8498-3980f1827286",
   "metadata": {
    "pycharm": {
     "name": "#%%\n"
    }
   },
   "outputs": [
    {
     "name": "stdout",
     "output_type": "stream",
     "text": [
      "Reference (nothing)\n",
      "63.2 ns ± 0.653 ns per loop (mean ± std. dev. of 7 runs, 10,000,000 loops each)\n",
      "world.test.empty()\n",
      "43.6 µs ± 157 ns per loop (mean ± std. dev. of 7 runs, 10,000 loops each)\n",
      "\n",
      "world.test.new()\n",
      "162 µs ± 544 ns per loop (mean ± std. dev. of 7 runs, 10,000 loops each)\n",
      "\n",
      "world.test.clone()\n",
      "1.9 ms ± 6.61 µs per loop (mean ± std. dev. of 7 runs, 1,000 loops each)\n",
      "\n",
      "world.test.copy()\n",
      "2.18 ms ± 68.6 µs per loop (mean ± std. dev. of 7 runs, 100 loops each)\n"
     ]
    }
   ],
   "source": [
    "benchmark()"
   ]
  },
  {
   "cell_type": "markdown",
   "id": "741f85c7-187f-4b7c-9638-ce4f58b2fe95",
   "metadata": {},
   "source": [
    "### Override"
   ]
  },
  {
   "cell_type": "code",
   "execution_count": 14,
   "id": "automotive-contest",
   "metadata": {
    "pycharm": {
     "name": "#%%\n"
    }
   },
   "outputs": [
    {
     "name": "stdout",
     "output_type": "stream",
     "text": [
      "3.05 µs ± 903 ns per loop (mean ± std. dev. of 7 runs, 100,000 loops each)\n"
     ]
    }
   ],
   "source": [
    "x = object()\n",
    "with world.test.clone() as overrides:\n",
    "    %timeit overrides[services[0]] = x"
   ]
  },
  {
   "cell_type": "code",
   "execution_count": 1,
   "outputs": [
    {
     "name": "stderr",
     "output_type": "stream",
     "text": [
      "UsageError: Cell magic `%%scalene` not found.\n"
     ]
    }
   ],
   "source": [
    "%%scalene --reduced-profile\n",
    "x = object()\n",
    "\n",
    "def static():\n",
    "    return x\n",
    "\n",
    "with world.test.clone() as overrides:\n",
    "    for _ in range(10000):\n",
    "        overrides.factory(services[0])(static)"
   ],
   "metadata": {
    "collapsed": false,
    "pycharm": {
     "name": "#%%\n"
    }
   }
  },
  {
   "cell_type": "code",
   "execution_count": 2,
   "outputs": [
    {
     "name": "stdout",
     "output_type": "stream",
     "text": [
      "Scalene extension successfully loaded. Note: Scalene currently only\n",
      "supports CPU+GPU profiling inside Jupyter notebooks. For full Scalene\n",
      "profiling, use the command line version.\n"
     ]
    }
   ],
   "source": [
    "%load_ext scalene\n"
   ],
   "metadata": {
    "collapsed": false,
    "pycharm": {
     "name": "#%%\n"
    }
   }
  },
  {
   "cell_type": "code",
   "execution_count": null,
   "outputs": [],
   "source": [],
   "metadata": {
    "collapsed": false,
    "pycharm": {
     "name": "#%%\n"
    }
   }
  }
 ],
 "metadata": {
  "kernelspec": {
   "display_name": "Python 3 (ipykernel)",
   "language": "python",
   "name": "python3"
  },
  "language_info": {
   "codemirror_mode": {
    "name": "ipython",
    "version": 3
   },
   "file_extension": ".py",
   "mimetype": "text/x-python",
   "name": "python",
   "nbconvert_exporter": "python",
   "pygments_lexer": "ipython3",
   "version": "3.10.4"
  }
 },
 "nbformat": 4,
 "nbformat_minor": 5
}