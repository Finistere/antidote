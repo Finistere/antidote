{
 "cells": [
  {
   "cell_type": "markdown",
   "id": "placed-lesson",
   "metadata": {},
   "source": [
    "# Test benchmark\n",
    "\n",
    "## Setup"
   ]
  },
  {
   "cell_type": "code",
   "execution_count": null,
   "id": "piano-consensus",
   "metadata": {},
   "outputs": [],
   "source": [
    "import sys\n",
    "import subprocess\n",
    "from antidote import __version__, is_compiled\n",
    "print(f\"\"\"\n",
    "== Python ==\n",
    "{sys.version}\n",
    "\n",
    "== Antidote =\n",
    "{__version__} {'(cython)' if is_compiled() else ''}\n",
    "\"\"\")"
   ]
  },
  {
   "cell_type": "markdown",
   "id": "automotive-pillow",
   "metadata": {},
   "source": [
    "### Imitating a really big project\n",
    "\n",
    "Creating 4000 different dependencies, all singletons, in all the different ways that actually impact test utilities."
   ]
  },
  {
   "cell_type": "code",
   "execution_count": null,
   "id": "divided-pavilion",
   "metadata": {},
   "outputs": [],
   "source": [
    "from antidote import factory, Service, implementation, Factory\n",
    "\n",
    "n = 1000\n",
    "\n",
    "services = [\n",
    "    type(f\"Service{i}\", (Service,), {})\n",
    "    for i in range(n)\n",
    "]\n",
    "\n",
    "def make_factory(Output):\n",
    "    @factory\n",
    "    def f() -> Output:\n",
    "        return Output()\n",
    "    \n",
    "    return f\n",
    "\n",
    "factories = dict()\n",
    "for i in range(n):\n",
    "    Output = type(f\"Ouput{i}\", (object,), {})\n",
    "    factories[Output] = make_factory(Output)\n",
    "\n",
    "def make_implementation(Interface, Impl):\n",
    "    @implementation(Interface)\n",
    "    def f():\n",
    "        return Impl\n",
    "    \n",
    "    return f\n",
    "\n",
    "def make_factory_method(Output):\n",
    "    def f(self) -> Output:\n",
    "        return Output()\n",
    "    \n",
    "    return f\n",
    "\n",
    "factories = dict()\n",
    "for i in range(n, 2 * n):\n",
    "    Output = type(f\"Ouput{i}\", (object,), {})\n",
    "    factories[Output] = type(f\"Factory{i}\", (Factory,), {\"__call__\": make_factory_method(Output)})\n",
    "\n",
    "    \n",
    "implementations = dict()\n",
    "for i in range(n):\n",
    "    Interface = type(f\"Interface{i}\", (object,), {})\n",
    "    Impl = type(f\"Impl{i}\", (Interface, Service), {})\n",
    "    implementations[Interface] = make_implementation(Interface, Impl)\n",
    "\n",
    "# Instantiating all dependencies\n",
    "from antidote import world\n",
    "\n",
    "for service in services:\n",
    "    world.get(service)\n",
    "\n",
    "for output, factory in factories.items():\n",
    "    world.get(output @ factory)\n",
    "    \n",
    "for interface, impl in implementations.items():\n",
    "    world.get(interface @ impl)"
   ]
  },
  {
   "cell_type": "markdown",
   "id": "billion-browser",
   "metadata": {},
   "source": [
    "## Benchmarks"
   ]
  },
  {
   "cell_type": "code",
   "execution_count": null,
   "id": "macro-dublin",
   "metadata": {},
   "outputs": [],
   "source": [
    "def bench_empty():\n",
    "    with world.test.empty():\n",
    "        pass\n",
    "    \n",
    "%timeit bench_empty()"
   ]
  },
  {
   "cell_type": "code",
   "execution_count": null,
   "id": "moral-decline",
   "metadata": {},
   "outputs": [],
   "source": [
    "def bench_new():\n",
    "    with world.test.new():\n",
    "        pass\n",
    "    \n",
    "%timeit bench_new()"
   ]
  },
  {
   "cell_type": "code",
   "execution_count": null,
   "id": "vulnerable-pantyhose",
   "metadata": {},
   "outputs": [],
   "source": [
    "def bench_clone():\n",
    "    with world.test.clone():\n",
    "        pass\n",
    "    \n",
    "%timeit bench_clone()"
   ]
  },
  {
   "cell_type": "code",
   "execution_count": null,
   "id": "bibliographic-uncle",
   "metadata": {},
   "outputs": [],
   "source": [
    "def bench_clone_keeping_singletons():\n",
    "    with world.test.clone(keep_singletons=True):\n",
    "        pass\n",
    "    \n",
    "%timeit bench_clone_keeping_singletons()"
   ]
  },
  {
   "cell_type": "code",
   "execution_count": null,
   "id": "yellow-favor",
   "metadata": {},
   "outputs": [],
   "source": [
    "x = object()\n",
    "with world.test.clone():\n",
    "    %timeit world.test.override.singleton(services[0], x)"
   ]
  },
  {
   "cell_type": "code",
   "execution_count": null,
   "id": "general-french",
   "metadata": {},
   "outputs": [],
   "source": [
    "x = object()\n",
    "\n",
    "def static():\n",
    "    return x\n",
    "\n",
    "with world.test.clone():\n",
    "    %timeit world.test.override.factory(services[0])(static)"
   ]
  },
  {
   "cell_type": "code",
   "execution_count": null,
   "id": "rolled-julian",
   "metadata": {},
   "outputs": [],
   "source": []
  }
 ],
 "metadata": {
  "kernelspec": {
   "display_name": "Python 3",
   "language": "python",
   "name": "python3"
  },
  "language_info": {
   "codemirror_mode": {
    "name": "ipython",
    "version": 3
   },
   "file_extension": ".py",
   "mimetype": "text/x-python",
   "name": "python",
   "nbconvert_exporter": "python",
   "pygments_lexer": "ipython3",
   "version": "3.9.1"
  }
 },
 "nbformat": 4,
 "nbformat_minor": 5
}
